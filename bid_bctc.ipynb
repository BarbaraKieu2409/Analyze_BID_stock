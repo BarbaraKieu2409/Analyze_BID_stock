{
 "cells": [
  {
   "cell_type": "markdown",
   "metadata": {},
   "source": [
    "## Import libs"
   ]
  },
  {
   "cell_type": "code",
   "execution_count": 257,
   "metadata": {},
   "outputs": [],
   "source": [
    "import os\n",
    "import time\n",
    "import csv\n",
    "import numpy as np\n",
    "import pandas as pd\n",
    "import requests\n",
    "from bs4 import BeautifulSoup\n",
    "import matplotlib.pyplot as plt "
   ]
  },
  {
   "cell_type": "markdown",
   "metadata": {},
   "source": [
    "## Crawl data"
   ]
  },
  {
   "cell_type": "markdown",
   "metadata": {},
   "source": [
    "### Định nghĩa các hàm để chuẩn bị dữ liệu"
   ]
  },
  {
   "cell_type": "code",
   "execution_count": 258,
   "metadata": {},
   "outputs": [],
   "source": [
    "def crawl_data_with_url(url):\n",
    "    response = requests.get(url)\n",
    "    if response.status_code == 200:\n",
    "        # convert doc to soup obj\n",
    "        soup = BeautifulSoup(response.content, 'html.parser')\n",
    "\n",
    "        # get target table\n",
    "        content_table = soup.find('table', id=\"tableContent\")\n",
    "\n",
    "        # extract the rows of the table\n",
    "        content_rows = content_table.find_all('tr')\n",
    "\n",
    "        # get contents\n",
    "        contents = get_contents(content_rows)\n",
    "\n",
    "        # get table header\n",
    "        header = get_header(soup)\n",
    "\n",
    "        # return dataframe\n",
    "        return pd.DataFrame(data=contents, columns=header)\n",
    "    else:\n",
    "        raise Exception(\"Not having data!!!\")\n",
    "\n",
    "\n",
    "def get_header(soup):\n",
    "    header_table = soup.find(\"table\", id=\"tblGridData\")\n",
    "    header_rows = header_table.find_all(\"tr\")\n",
    "    header = [\"chỉ tiêu\"]\n",
    "    header_cols = header_rows[0].find_all(\"td\")\n",
    "    for header_col in header_cols:\n",
    "        if \"h_t\" in header_col.get(\"class\"):\n",
    "            header.append(header_col.text.strip())\n",
    "    \n",
    "    return header\n",
    "\n",
    "def get_contents(content_rows):\n",
    "    contents = []\n",
    "\n",
    "    for content_row in content_rows:\n",
    "        content_cols = content_row.find_all(\"td\")\n",
    "        content_vals = []\n",
    "        if len(content_cols) < 4:\n",
    "            continue\n",
    "        for content_col_id in range(5):\n",
    "            content_vals.append(content_cols[content_col_id].text.strip())\n",
    "        is_filter = False\n",
    "        for content_val in content_vals:\n",
    "            if content_val == \"\":\n",
    "                is_filter=True\n",
    "                break\n",
    "        if not is_filter:\n",
    "            contents.append(content_vals)\n",
    "    \n",
    "    return contents\n",
    "\n",
    "def crawl_and_save(url:str, filename:str):\n",
    "    # prepare filename\n",
    "    filename = prepare_filename(filename)\n",
    "    \n",
    "    # crawl data with url\n",
    "    df = crawl_data_with_url(url)\n",
    "\n",
    "    df.to_csv(f\"./dataset/{filename}.csv\",index=False)\n",
    "    print(f\"crawl with url = {url}\\nwas saved at ./dataset/{filename}.csv\")\n",
    "    return df\n",
    "\n",
    "def prepare_filename(filename):\n",
    "    # create a folder to store the entire dataset file if not exist\n",
    "    if not os.path.exists(\"./dataset\"):\n",
    "        os.mkdir(\"./dataset\")\n",
    "    \n",
    "    # if file existed, add time to extension\n",
    "    filename = filename[:-4] if filename.endswith('.csv') else filename\n",
    "    if os.path.exists(f\"./dataset/{filename}.csv\"):\n",
    "        filename = f\"{filename}-{time.strftime('%Y%m%d-%H%M%S')}\"\n",
    "    \n",
    "    return filename\n",
    "    \n"
   ]
  },
  {
   "cell_type": "markdown",
   "metadata": {},
   "source": [
    "### Define target urls"
   ]
  },
  {
   "cell_type": "code",
   "execution_count": 259,
   "metadata": {},
   "outputs": [],
   "source": [
    "# url kết quả hoạt động kinh doanh(2020-2024)\n",
    "url_kqhdkd_year = \"https://s.cafef.vn/bao-cao-tai-chinh-ngan-hang/bid/incsta/2024/0/0/0/ngan-hang-thuong-mai-co-phan-dau-tu-va-phat-trien-viet-nam.chn\"\n",
    "# url cân đối kế toán (4 năm)\n",
    "url_cdkt_year = \"https://s.cafef.vn/bao-cao-tai-chinh-ngan-hang/bid/bsheet/2023/0/0/0/ngan-hang-thuong-mai-co-phan-dau-tu-va-phat-trien-viet-nam.chn\"\n",
    "# url lưu chuyển tiền tệ trực tiếp \n",
    "url_lctttt_year = \"https://s.cafef.vn/bao-cao-tai-chinh-ngan-hang/bid/cashflowdirect/2024/0/0/0/ngan-hang-thuong-mai-co-phan-dau-tu-va-phat-trien-viet-nam.chn\"\n",
    "\n",
    "# url kết quả hoạt động kinh doanh ( 4 quý gần nhất)\n",
    "url_kqhdkd_quar = \"https://s.cafef.vn/bao-cao-tai-chinh-ngan-hang/bid/incsta/2025/4/0/0/ngan-hang-thuong-mai-co-phan-dau-tu-va-phat-trien-viet-nam.chn\"\n",
    "# url cân đối kế toán ( 4 quý gần nhất)\n",
    "url_cdkt_quar = \"https://s.cafef.vn/bao-cao-tai-chinh-ngan-hang/bid/bsheet/2024/2/-5/0/ngan-hang-thuong-mai-co-phan-dau-tu-va-phat-trien-viet-nam.chn\"\n",
    "# url lưu chuyển tiền tệ trực tiếp \n",
    "url_lctttt_quar = \"https://s.cafef.vn/bao-cao-tai-chinh-ngan-hang/bid/cashflowdirect/2025/4/0/0/ngan-hang-thuong-mai-co-phan-dau-tu-va-phat-trien-viet-nam.chn\""
   ]
  },
  {
   "cell_type": "markdown",
   "metadata": {},
   "source": [
    "### Crawl and save"
   ]
  },
  {
   "cell_type": "code",
   "execution_count": 260,
   "metadata": {},
   "outputs": [
    {
     "name": "stdout",
     "output_type": "stream",
     "text": [
      "crawl with url = https://s.cafef.vn/bao-cao-tai-chinh-ngan-hang/bid/incsta/2024/0/0/0/ngan-hang-thuong-mai-co-phan-dau-tu-va-phat-trien-viet-nam.chn\n",
      "was saved at ./dataset/kqhdkd_year.csv\n",
      "crawl with url = https://s.cafef.vn/bao-cao-tai-chinh-ngan-hang/bid/bsheet/2023/0/0/0/ngan-hang-thuong-mai-co-phan-dau-tu-va-phat-trien-viet-nam.chn\n",
      "was saved at ./dataset/cdkt_year.csv\n",
      "crawl with url = https://s.cafef.vn/bao-cao-tai-chinh-ngan-hang/bid/cashflowdirect/2024/0/0/0/ngan-hang-thuong-mai-co-phan-dau-tu-va-phat-trien-viet-nam.chn\n",
      "was saved at ./dataset/lctttt_year.csv\n",
      "crawl with url = https://s.cafef.vn/bao-cao-tai-chinh-ngan-hang/bid/incsta/2025/4/0/0/ngan-hang-thuong-mai-co-phan-dau-tu-va-phat-trien-viet-nam.chn\n",
      "was saved at ./dataset/kqhdkd_quar.csv\n",
      "crawl with url = https://s.cafef.vn/bao-cao-tai-chinh-ngan-hang/bid/bsheet/2024/2/-5/0/ngan-hang-thuong-mai-co-phan-dau-tu-va-phat-trien-viet-nam.chn\n",
      "was saved at ./dataset/cdkt_quar.csv\n",
      "crawl with url = https://s.cafef.vn/bao-cao-tai-chinh-ngan-hang/bid/cashflowdirect/2025/4/0/0/ngan-hang-thuong-mai-co-phan-dau-tu-va-phat-trien-viet-nam.chn\n",
      "was saved at ./dataset/lctttt_quar.csv\n"
     ]
    }
   ],
   "source": [
    "df_kqhdkd_year = crawl_and_save(url_kqhdkd_year, \"kqhdkd_year\")\n",
    "df_cdkt_year = crawl_and_save(url_cdkt_year, \"cdkt_year\")\n",
    "df_lctttt_year = crawl_and_save(url_lctttt_year, \"lctttt_year\")\n",
    "df_kqhdkd_quar = crawl_and_save(url_kqhdkd_quar, \"kqhdkd_quar\")\n",
    "df_cdkt_quar = crawl_and_save(url_cdkt_quar, \"cdkt_quar\")\n",
    "df_lctttt_quar = crawl_and_save(url_lctttt_quar, \"lctttt_quar\")"
   ]
  },
  {
   "cell_type": "markdown",
   "metadata": {},
   "source": [
    "### Kết hợp hai data frame năm và quý (Thêm dữ liệu năm 2024)"
   ]
  },
  {
   "cell_type": "code",
   "execution_count": 261,
   "metadata": {},
   "outputs": [],
   "source": [
    "def add_2024_year(df_year, df_quar):\n",
    "    df_merged = pd.merge(\n",
    "        df_year,\n",
    "        df_quar[[\"chỉ tiêu\", \"Quý  1-2024\", \"Quý  2-2024\"]],\n",
    "        on=\"chỉ tiêu\",\n",
    "        how=\"left\",\n",
    "    )\n",
    "\n",
    "    try:\n",
    "        df_merged = df_merged.rename(columns={\"Quý  1-2024\": \"Quý 1-2024\"})\n",
    "    except:\n",
    "        pass\n",
    "\n",
    "    try:\n",
    "        df_merged = df_merged.rename(columns={\"Quý  2-2024\": \"Quý 2-2024\"})\n",
    "    except:\n",
    "        pass\n",
    "\n",
    "    return df_merged\n",
    "\n",
    "\n",
    "def add_2024_year_and_save(df_year, df_quar,filename):\n",
    "    # prepare filename\n",
    "    filename = prepare_filename(filename)\n",
    "\n",
    "    # add 2024 year\n",
    "    merged_df = add_2024_year(df_year, df_quar)\n",
    "\n",
    "    # save file\n",
    "    merged_df.to_csv(f\"./dataset/{filename}.csv\", index=False)\n",
    "\n",
    "    return merged_df"
   ]
  },
  {
   "cell_type": "code",
   "execution_count": 262,
   "metadata": {},
   "outputs": [],
   "source": [
    "df_kqhdkd = add_2024_year_and_save(df_kqhdkd_year,df_kqhdkd_quar,\"kqhdkd\")\n",
    "df_lctttt = add_2024_year_and_save(df_lctttt_year,df_lctttt_quar,\"lctttt\")\n",
    "df_cdkt = add_2024_year_and_save(df_cdkt_year,df_cdkt_quar,\"cdkt\")"
   ]
  },
  {
   "cell_type": "markdown",
   "metadata": {},
   "source": [
    "### Clean data"
   ]
  },
  {
   "cell_type": "markdown",
   "metadata": {},
   "source": [
    "Shape? "
   ]
  },
  {
   "cell_type": "code",
   "execution_count": 263,
   "metadata": {},
   "outputs": [
    {
     "data": {
      "text/plain": [
       "(21, 7)"
      ]
     },
     "execution_count": 263,
     "metadata": {},
     "output_type": "execute_result"
    }
   ],
   "source": [
    "df_kqhdkd.shape"
   ]
  },
  {
   "cell_type": "code",
   "execution_count": 264,
   "metadata": {},
   "outputs": [
    {
     "data": {
      "text/plain": [
       "(31, 7)"
      ]
     },
     "execution_count": 264,
     "metadata": {},
     "output_type": "execute_result"
    }
   ],
   "source": [
    "df_lctttt.shape"
   ]
  },
  {
   "cell_type": "code",
   "execution_count": 265,
   "metadata": {},
   "outputs": [
    {
     "data": {
      "text/plain": [
       "(59, 7)"
      ]
     },
     "execution_count": 265,
     "metadata": {},
     "output_type": "execute_result"
    }
   ],
   "source": [
    "df_cdkt.shape"
   ]
  },
  {
   "cell_type": "markdown",
   "metadata": {},
   "source": [
    "Cols? "
   ]
  },
  {
   "cell_type": "code",
   "execution_count": 266,
   "metadata": {},
   "outputs": [
    {
     "data": {
      "text/plain": [
       "Index(['chỉ tiêu', '2020', '2021', '2022', '2023', 'Quý 1-2024', 'Quý 2-2024'], dtype='object')"
      ]
     },
     "execution_count": 266,
     "metadata": {},
     "output_type": "execute_result"
    }
   ],
   "source": [
    "df_kqhdkd.columns"
   ]
  },
  {
   "cell_type": "code",
   "execution_count": 267,
   "metadata": {},
   "outputs": [
    {
     "data": {
      "text/plain": [
       "Index(['chỉ tiêu', '2020', '2021', '2022', '2023', 'Quý 1-2024', 'Quý 2-2024'], dtype='object')"
      ]
     },
     "execution_count": 267,
     "metadata": {},
     "output_type": "execute_result"
    }
   ],
   "source": [
    "df_lctttt.columns"
   ]
  },
  {
   "cell_type": "code",
   "execution_count": 268,
   "metadata": {},
   "outputs": [
    {
     "data": {
      "text/plain": [
       "Index(['chỉ tiêu', '2020', '2021', '2022', '2023', 'Quý 1-2024', 'Quý 2-2024'], dtype='object')"
      ]
     },
     "execution_count": 268,
     "metadata": {},
     "output_type": "execute_result"
    }
   ],
   "source": [
    "df_cdkt.columns"
   ]
  },
  {
   "cell_type": "markdown",
   "metadata": {},
   "source": [
    "Stats"
   ]
  },
  {
   "cell_type": "code",
   "execution_count": 269,
   "metadata": {},
   "outputs": [
    {
     "data": {
      "text/html": [
       "<div>\n",
       "<style scoped>\n",
       "    .dataframe tbody tr th:only-of-type {\n",
       "        vertical-align: middle;\n",
       "    }\n",
       "\n",
       "    .dataframe tbody tr th {\n",
       "        vertical-align: top;\n",
       "    }\n",
       "\n",
       "    .dataframe thead th {\n",
       "        text-align: right;\n",
       "    }\n",
       "</style>\n",
       "<table border=\"1\" class=\"dataframe\">\n",
       "  <thead>\n",
       "    <tr style=\"text-align: right;\">\n",
       "      <th></th>\n",
       "      <th>chỉ tiêu</th>\n",
       "      <th>2020</th>\n",
       "      <th>2021</th>\n",
       "      <th>2022</th>\n",
       "      <th>2023</th>\n",
       "      <th>Quý 1-2024</th>\n",
       "      <th>Quý 2-2024</th>\n",
       "    </tr>\n",
       "  </thead>\n",
       "  <tbody>\n",
       "    <tr>\n",
       "      <th>count</th>\n",
       "      <td>21</td>\n",
       "      <td>21</td>\n",
       "      <td>21</td>\n",
       "      <td>21</td>\n",
       "      <td>21</td>\n",
       "      <td>20</td>\n",
       "      <td>20</td>\n",
       "    </tr>\n",
       "    <tr>\n",
       "      <th>unique</th>\n",
       "      <td>21</td>\n",
       "      <td>21</td>\n",
       "      <td>21</td>\n",
       "      <td>21</td>\n",
       "      <td>21</td>\n",
       "      <td>20</td>\n",
       "      <td>20</td>\n",
       "    </tr>\n",
       "    <tr>\n",
       "      <th>top</th>\n",
       "      <td>1.Thu nhập lãi và các khoản thu nhập tương tự</td>\n",
       "      <td>100,687,502,000,000</td>\n",
       "      <td>101,007,908,000,000</td>\n",
       "      <td>121,110,719,000,000</td>\n",
       "      <td>152,761,316,000,000</td>\n",
       "      <td>33,595,982,000,000</td>\n",
       "      <td>33,896,901,000,000</td>\n",
       "    </tr>\n",
       "    <tr>\n",
       "      <th>freq</th>\n",
       "      <td>1</td>\n",
       "      <td>1</td>\n",
       "      <td>1</td>\n",
       "      <td>1</td>\n",
       "      <td>1</td>\n",
       "      <td>1</td>\n",
       "      <td>1</td>\n",
       "    </tr>\n",
       "  </tbody>\n",
       "</table>\n",
       "</div>"
      ],
      "text/plain": [
       "                                             chỉ tiêu                 2020  \\\n",
       "count                                              21                   21   \n",
       "unique                                             21                   21   \n",
       "top     1.Thu nhập lãi và các khoản thu nhập tương tự  100,687,502,000,000   \n",
       "freq                                                1                    1   \n",
       "\n",
       "                       2021                 2022                 2023  \\\n",
       "count                    21                   21                   21   \n",
       "unique                   21                   21                   21   \n",
       "top     101,007,908,000,000  121,110,719,000,000  152,761,316,000,000   \n",
       "freq                      1                    1                    1   \n",
       "\n",
       "                Quý 1-2024          Quý 2-2024  \n",
       "count                   20                  20  \n",
       "unique                  20                  20  \n",
       "top     33,595,982,000,000  33,896,901,000,000  \n",
       "freq                     1                   1  "
      ]
     },
     "execution_count": 269,
     "metadata": {},
     "output_type": "execute_result"
    }
   ],
   "source": [
    "df_kqhdkd.describe()"
   ]
  },
  {
   "cell_type": "code",
   "execution_count": 270,
   "metadata": {},
   "outputs": [
    {
     "data": {
      "text/html": [
       "<div>\n",
       "<style scoped>\n",
       "    .dataframe tbody tr th:only-of-type {\n",
       "        vertical-align: middle;\n",
       "    }\n",
       "\n",
       "    .dataframe tbody tr th {\n",
       "        vertical-align: top;\n",
       "    }\n",
       "\n",
       "    .dataframe thead th {\n",
       "        text-align: right;\n",
       "    }\n",
       "</style>\n",
       "<table border=\"1\" class=\"dataframe\">\n",
       "  <thead>\n",
       "    <tr style=\"text-align: right;\">\n",
       "      <th></th>\n",
       "      <th>chỉ tiêu</th>\n",
       "      <th>2020</th>\n",
       "      <th>2021</th>\n",
       "      <th>2022</th>\n",
       "      <th>2023</th>\n",
       "      <th>Quý 1-2024</th>\n",
       "      <th>Quý 2-2024</th>\n",
       "    </tr>\n",
       "  </thead>\n",
       "  <tbody>\n",
       "    <tr>\n",
       "      <th>count</th>\n",
       "      <td>31</td>\n",
       "      <td>31</td>\n",
       "      <td>31</td>\n",
       "      <td>31</td>\n",
       "      <td>31</td>\n",
       "      <td>27</td>\n",
       "      <td>27</td>\n",
       "    </tr>\n",
       "    <tr>\n",
       "      <th>unique</th>\n",
       "      <td>31</td>\n",
       "      <td>30</td>\n",
       "      <td>30</td>\n",
       "      <td>31</td>\n",
       "      <td>30</td>\n",
       "      <td>27</td>\n",
       "      <td>27</td>\n",
       "    </tr>\n",
       "    <tr>\n",
       "      <th>top</th>\n",
       "      <td>1. Thu nhập lãi và các khoản thu nhập tương tự...</td>\n",
       "      <td>-2,669,096,000,000</td>\n",
       "      <td>-1,353,760,000,000</td>\n",
       "      <td>120,347,258,000,000</td>\n",
       "      <td>-119,694,000,000</td>\n",
       "      <td>33,049,473,000,000</td>\n",
       "      <td>65,928,181,000,000</td>\n",
       "    </tr>\n",
       "    <tr>\n",
       "      <th>freq</th>\n",
       "      <td>1</td>\n",
       "      <td>2</td>\n",
       "      <td>2</td>\n",
       "      <td>1</td>\n",
       "      <td>2</td>\n",
       "      <td>1</td>\n",
       "      <td>1</td>\n",
       "    </tr>\n",
       "  </tbody>\n",
       "</table>\n",
       "</div>"
      ],
      "text/plain": [
       "                                                 chỉ tiêu                2020  \\\n",
       "count                                                  31                  31   \n",
       "unique                                                 31                  30   \n",
       "top     1. Thu nhập lãi và các khoản thu nhập tương tự...  -2,669,096,000,000   \n",
       "freq                                                    1                   2   \n",
       "\n",
       "                      2021                 2022              2023  \\\n",
       "count                   31                   31                31   \n",
       "unique                  30                   31                30   \n",
       "top     -1,353,760,000,000  120,347,258,000,000  -119,694,000,000   \n",
       "freq                     2                    1                 2   \n",
       "\n",
       "                Quý 1-2024          Quý 2-2024  \n",
       "count                   27                  27  \n",
       "unique                  27                  27  \n",
       "top     33,049,473,000,000  65,928,181,000,000  \n",
       "freq                     1                   1  "
      ]
     },
     "execution_count": 270,
     "metadata": {},
     "output_type": "execute_result"
    }
   ],
   "source": [
    "df_lctttt.describe()"
   ]
  },
  {
   "cell_type": "code",
   "execution_count": 271,
   "metadata": {},
   "outputs": [
    {
     "data": {
      "text/html": [
       "<div>\n",
       "<style scoped>\n",
       "    .dataframe tbody tr th:only-of-type {\n",
       "        vertical-align: middle;\n",
       "    }\n",
       "\n",
       "    .dataframe tbody tr th {\n",
       "        vertical-align: top;\n",
       "    }\n",
       "\n",
       "    .dataframe thead th {\n",
       "        text-align: right;\n",
       "    }\n",
       "</style>\n",
       "<table border=\"1\" class=\"dataframe\">\n",
       "  <thead>\n",
       "    <tr style=\"text-align: right;\">\n",
       "      <th></th>\n",
       "      <th>chỉ tiêu</th>\n",
       "      <th>2020</th>\n",
       "      <th>2021</th>\n",
       "      <th>2022</th>\n",
       "      <th>2023</th>\n",
       "      <th>Quý 1-2024</th>\n",
       "      <th>Quý 2-2024</th>\n",
       "    </tr>\n",
       "  </thead>\n",
       "  <tbody>\n",
       "    <tr>\n",
       "      <th>count</th>\n",
       "      <td>59</td>\n",
       "      <td>59</td>\n",
       "      <td>59</td>\n",
       "      <td>59</td>\n",
       "      <td>59</td>\n",
       "      <td>56</td>\n",
       "      <td>56</td>\n",
       "    </tr>\n",
       "    <tr>\n",
       "      <th>unique</th>\n",
       "      <td>53</td>\n",
       "      <td>54</td>\n",
       "      <td>54</td>\n",
       "      <td>54</td>\n",
       "      <td>54</td>\n",
       "      <td>51</td>\n",
       "      <td>51</td>\n",
       "    </tr>\n",
       "    <tr>\n",
       "      <th>top</th>\n",
       "      <td>b.Hao mòn tài sản cố định</td>\n",
       "      <td>-1,747,553,000,000</td>\n",
       "      <td>-2,004,606,000,000</td>\n",
       "      <td>-2,203,435,000,000</td>\n",
       "      <td>-2,458,506,000,000</td>\n",
       "      <td>-2,509,210,000,000</td>\n",
       "      <td>-2,626,320,000,000</td>\n",
       "    </tr>\n",
       "    <tr>\n",
       "      <th>freq</th>\n",
       "      <td>4</td>\n",
       "      <td>2</td>\n",
       "      <td>2</td>\n",
       "      <td>2</td>\n",
       "      <td>2</td>\n",
       "      <td>2</td>\n",
       "      <td>2</td>\n",
       "    </tr>\n",
       "  </tbody>\n",
       "</table>\n",
       "</div>"
      ],
      "text/plain": [
       "                         chỉ tiêu                2020                2021  \\\n",
       "count                          59                  59                  59   \n",
       "unique                         53                  54                  54   \n",
       "top     b.Hao mòn tài sản cố định  -1,747,553,000,000  -2,004,606,000,000   \n",
       "freq                            4                   2                   2   \n",
       "\n",
       "                      2022                2023          Quý 1-2024  \\\n",
       "count                   59                  59                  56   \n",
       "unique                  54                  54                  51   \n",
       "top     -2,203,435,000,000  -2,458,506,000,000  -2,509,210,000,000   \n",
       "freq                     2                   2                   2   \n",
       "\n",
       "                Quý 2-2024  \n",
       "count                   56  \n",
       "unique                  51  \n",
       "top     -2,626,320,000,000  \n",
       "freq                     2  "
      ]
     },
     "execution_count": 271,
     "metadata": {},
     "output_type": "execute_result"
    }
   ],
   "source": [
    "df_cdkt.describe()"
   ]
  },
  {
   "cell_type": "markdown",
   "metadata": {},
   "source": [
    "dtypes?"
   ]
  },
  {
   "cell_type": "code",
   "execution_count": 272,
   "metadata": {},
   "outputs": [
    {
     "data": {
      "text/plain": [
       "chỉ tiêu      object\n",
       "2020          object\n",
       "2021          object\n",
       "2022          object\n",
       "2023          object\n",
       "Quý 1-2024    object\n",
       "Quý 2-2024    object\n",
       "dtype: object"
      ]
     },
     "execution_count": 272,
     "metadata": {},
     "output_type": "execute_result"
    }
   ],
   "source": [
    "df_kqhdkd.dtypes"
   ]
  },
  {
   "cell_type": "code",
   "execution_count": 273,
   "metadata": {},
   "outputs": [
    {
     "data": {
      "text/plain": [
       "chỉ tiêu      object\n",
       "2020          object\n",
       "2021          object\n",
       "2022          object\n",
       "2023          object\n",
       "Quý 1-2024    object\n",
       "Quý 2-2024    object\n",
       "dtype: object"
      ]
     },
     "execution_count": 273,
     "metadata": {},
     "output_type": "execute_result"
    }
   ],
   "source": [
    "df_lctttt.dtypes"
   ]
  },
  {
   "cell_type": "code",
   "execution_count": 274,
   "metadata": {},
   "outputs": [
    {
     "data": {
      "text/plain": [
       "chỉ tiêu      object\n",
       "2020          object\n",
       "2021          object\n",
       "2022          object\n",
       "2023          object\n",
       "Quý 1-2024    object\n",
       "Quý 2-2024    object\n",
       "dtype: object"
      ]
     },
     "execution_count": 274,
     "metadata": {},
     "output_type": "execute_result"
    }
   ],
   "source": [
    "df_cdkt.dtypes"
   ]
  },
  {
   "cell_type": "markdown",
   "metadata": {},
   "source": [
    "Show head (first 5 rows)"
   ]
  },
  {
   "cell_type": "code",
   "execution_count": 275,
   "metadata": {},
   "outputs": [
    {
     "data": {
      "text/html": [
       "<div>\n",
       "<style scoped>\n",
       "    .dataframe tbody tr th:only-of-type {\n",
       "        vertical-align: middle;\n",
       "    }\n",
       "\n",
       "    .dataframe tbody tr th {\n",
       "        vertical-align: top;\n",
       "    }\n",
       "\n",
       "    .dataframe thead th {\n",
       "        text-align: right;\n",
       "    }\n",
       "</style>\n",
       "<table border=\"1\" class=\"dataframe\">\n",
       "  <thead>\n",
       "    <tr style=\"text-align: right;\">\n",
       "      <th></th>\n",
       "      <th>chỉ tiêu</th>\n",
       "      <th>2020</th>\n",
       "      <th>2021</th>\n",
       "      <th>2022</th>\n",
       "      <th>2023</th>\n",
       "      <th>Quý 1-2024</th>\n",
       "      <th>Quý 2-2024</th>\n",
       "    </tr>\n",
       "  </thead>\n",
       "  <tbody>\n",
       "    <tr>\n",
       "      <th>0</th>\n",
       "      <td>1.Thu nhập lãi và các khoản thu nhập tương tự</td>\n",
       "      <td>100,687,502,000,000</td>\n",
       "      <td>101,007,908,000,000</td>\n",
       "      <td>121,110,719,000,000</td>\n",
       "      <td>152,761,316,000,000</td>\n",
       "      <td>33,595,982,000,000</td>\n",
       "      <td>33,896,901,000,000</td>\n",
       "    </tr>\n",
       "    <tr>\n",
       "      <th>1</th>\n",
       "      <td>5. Thu nhập từ hoạt động khác</td>\n",
       "      <td>7,992,789,000,000</td>\n",
       "      <td>8,957,444,000,000</td>\n",
       "      <td>6,526,421,000,000</td>\n",
       "      <td>6,542,525,000,000</td>\n",
       "      <td>1,148,615,000,000</td>\n",
       "      <td>2,045,921,000,000</td>\n",
       "    </tr>\n",
       "    <tr>\n",
       "      <th>2</th>\n",
       "      <td>6. Chi phí hoạt động khác</td>\n",
       "      <td>2,900,221,000,000</td>\n",
       "      <td>2,778,592,000,000</td>\n",
       "      <td>2,316,094,000,000</td>\n",
       "      <td>4,474,726,000,000</td>\n",
       "      <td>648,299,000,000</td>\n",
       "      <td>1,014,475,000,000</td>\n",
       "    </tr>\n",
       "    <tr>\n",
       "      <th>3</th>\n",
       "      <td>VI. Lãi/lỗ thuần từ hoạt động khác</td>\n",
       "      <td>5,092,568,000,000</td>\n",
       "      <td>6,178,852,000,000</td>\n",
       "      <td>4,210,327,000,000</td>\n",
       "      <td>2,067,799,000,000</td>\n",
       "      <td>500,316,000,000</td>\n",
       "      <td>1,031,446,000,000</td>\n",
       "    </tr>\n",
       "    <tr>\n",
       "      <th>4</th>\n",
       "      <td>VII. Thu nhập từ góp vốn, mua cổ phần</td>\n",
       "      <td>154,267,000,000</td>\n",
       "      <td>187,622,000,000</td>\n",
       "      <td>290,952,000,000</td>\n",
       "      <td>355,275,000,000</td>\n",
       "      <td>95,644,000,000</td>\n",
       "      <td>99,423,000,000</td>\n",
       "    </tr>\n",
       "  </tbody>\n",
       "</table>\n",
       "</div>"
      ],
      "text/plain": [
       "                                        chỉ tiêu                 2020  \\\n",
       "0  1.Thu nhập lãi và các khoản thu nhập tương tự  100,687,502,000,000   \n",
       "1                  5. Thu nhập từ hoạt động khác    7,992,789,000,000   \n",
       "2                      6. Chi phí hoạt động khác    2,900,221,000,000   \n",
       "3             VI. Lãi/lỗ thuần từ hoạt động khác    5,092,568,000,000   \n",
       "4          VII. Thu nhập từ góp vốn, mua cổ phần      154,267,000,000   \n",
       "\n",
       "                  2021                 2022                 2023  \\\n",
       "0  101,007,908,000,000  121,110,719,000,000  152,761,316,000,000   \n",
       "1    8,957,444,000,000    6,526,421,000,000    6,542,525,000,000   \n",
       "2    2,778,592,000,000    2,316,094,000,000    4,474,726,000,000   \n",
       "3    6,178,852,000,000    4,210,327,000,000    2,067,799,000,000   \n",
       "4      187,622,000,000      290,952,000,000      355,275,000,000   \n",
       "\n",
       "           Quý 1-2024          Quý 2-2024  \n",
       "0  33,595,982,000,000  33,896,901,000,000  \n",
       "1   1,148,615,000,000   2,045,921,000,000  \n",
       "2     648,299,000,000   1,014,475,000,000  \n",
       "3     500,316,000,000   1,031,446,000,000  \n",
       "4      95,644,000,000      99,423,000,000  "
      ]
     },
     "execution_count": 275,
     "metadata": {},
     "output_type": "execute_result"
    }
   ],
   "source": [
    "df_kqhdkd.head()"
   ]
  },
  {
   "cell_type": "code",
   "execution_count": 276,
   "metadata": {},
   "outputs": [
    {
     "data": {
      "text/html": [
       "<div>\n",
       "<style scoped>\n",
       "    .dataframe tbody tr th:only-of-type {\n",
       "        vertical-align: middle;\n",
       "    }\n",
       "\n",
       "    .dataframe tbody tr th {\n",
       "        vertical-align: top;\n",
       "    }\n",
       "\n",
       "    .dataframe thead th {\n",
       "        text-align: right;\n",
       "    }\n",
       "</style>\n",
       "<table border=\"1\" class=\"dataframe\">\n",
       "  <thead>\n",
       "    <tr style=\"text-align: right;\">\n",
       "      <th></th>\n",
       "      <th>chỉ tiêu</th>\n",
       "      <th>2020</th>\n",
       "      <th>2021</th>\n",
       "      <th>2022</th>\n",
       "      <th>2023</th>\n",
       "      <th>Quý 1-2024</th>\n",
       "      <th>Quý 2-2024</th>\n",
       "    </tr>\n",
       "  </thead>\n",
       "  <tbody>\n",
       "    <tr>\n",
       "      <th>0</th>\n",
       "      <td>1. Thu nhập lãi và các khoản thu nhập tương tự...</td>\n",
       "      <td>102,790,502,000,000</td>\n",
       "      <td>103,175,768,000,000</td>\n",
       "      <td>120,347,258,000,000</td>\n",
       "      <td>149,297,819,000,000</td>\n",
       "      <td>33,049,473,000,000</td>\n",
       "      <td>65,928,181,000,000</td>\n",
       "    </tr>\n",
       "    <tr>\n",
       "      <th>1</th>\n",
       "      <td>9. (Tăng)/Giảm các khoản tiền gửi và cho vay c...</td>\n",
       "      <td>-14,905,662,000,000</td>\n",
       "      <td>-3,809,544,000,000</td>\n",
       "      <td>3,512,237,000,000</td>\n",
       "      <td>-1,064,184,000,000</td>\n",
       "      <td>-329,447,000,000</td>\n",
       "      <td>-1,584,638,000,000</td>\n",
       "    </tr>\n",
       "    <tr>\n",
       "      <th>2</th>\n",
       "      <td>10. (Tăng)/Giảm các khoản về kinh doanh chứng ...</td>\n",
       "      <td>13,505,590,000,000</td>\n",
       "      <td>-47,840,246,000,000</td>\n",
       "      <td>-55,646,978,000,000</td>\n",
       "      <td>8,284,842,000,000</td>\n",
       "      <td>2,091,837,000,000</td>\n",
       "      <td>-30,964,835,000,000</td>\n",
       "    </tr>\n",
       "    <tr>\n",
       "      <th>3</th>\n",
       "      <td>11. (Tăng)/Giảm các công cụ tài chính phái sin...</td>\n",
       "      <td>-75,803,000,000</td>\n",
       "      <td>-24,349,000,000</td>\n",
       "      <td>-845,932,000,000</td>\n",
       "      <td>1,038,214,000,000</td>\n",
       "      <td>NaN</td>\n",
       "      <td>NaN</td>\n",
       "    </tr>\n",
       "    <tr>\n",
       "      <th>4</th>\n",
       "      <td>12. (Tăng)/Giảm các khoản cho vay khách hàng</td>\n",
       "      <td>-97,297,933,000,000</td>\n",
       "      <td>-140,336,727,000,000</td>\n",
       "      <td>-167,589,073,000,000</td>\n",
       "      <td>-255,443,174,000,000</td>\n",
       "      <td>-16,265,349,000,000</td>\n",
       "      <td>-105,150,518,000,000</td>\n",
       "    </tr>\n",
       "  </tbody>\n",
       "</table>\n",
       "</div>"
      ],
      "text/plain": [
       "                                            chỉ tiêu                 2020  \\\n",
       "0  1. Thu nhập lãi và các khoản thu nhập tương tự...  102,790,502,000,000   \n",
       "1  9. (Tăng)/Giảm các khoản tiền gửi và cho vay c...  -14,905,662,000,000   \n",
       "2  10. (Tăng)/Giảm các khoản về kinh doanh chứng ...   13,505,590,000,000   \n",
       "3  11. (Tăng)/Giảm các công cụ tài chính phái sin...      -75,803,000,000   \n",
       "4       12. (Tăng)/Giảm các khoản cho vay khách hàng  -97,297,933,000,000   \n",
       "\n",
       "                   2021                  2022                  2023  \\\n",
       "0   103,175,768,000,000   120,347,258,000,000   149,297,819,000,000   \n",
       "1    -3,809,544,000,000     3,512,237,000,000    -1,064,184,000,000   \n",
       "2   -47,840,246,000,000   -55,646,978,000,000     8,284,842,000,000   \n",
       "3       -24,349,000,000      -845,932,000,000     1,038,214,000,000   \n",
       "4  -140,336,727,000,000  -167,589,073,000,000  -255,443,174,000,000   \n",
       "\n",
       "            Quý 1-2024            Quý 2-2024  \n",
       "0   33,049,473,000,000    65,928,181,000,000  \n",
       "1     -329,447,000,000    -1,584,638,000,000  \n",
       "2    2,091,837,000,000   -30,964,835,000,000  \n",
       "3                  NaN                   NaN  \n",
       "4  -16,265,349,000,000  -105,150,518,000,000  "
      ]
     },
     "execution_count": 276,
     "metadata": {},
     "output_type": "execute_result"
    }
   ],
   "source": [
    "df_lctttt.head()"
   ]
  },
  {
   "cell_type": "code",
   "execution_count": 277,
   "metadata": {},
   "outputs": [
    {
     "data": {
      "text/html": [
       "<div>\n",
       "<style scoped>\n",
       "    .dataframe tbody tr th:only-of-type {\n",
       "        vertical-align: middle;\n",
       "    }\n",
       "\n",
       "    .dataframe tbody tr th {\n",
       "        vertical-align: top;\n",
       "    }\n",
       "\n",
       "    .dataframe thead th {\n",
       "        text-align: right;\n",
       "    }\n",
       "</style>\n",
       "<table border=\"1\" class=\"dataframe\">\n",
       "  <thead>\n",
       "    <tr style=\"text-align: right;\">\n",
       "      <th></th>\n",
       "      <th>chỉ tiêu</th>\n",
       "      <th>2020</th>\n",
       "      <th>2021</th>\n",
       "      <th>2022</th>\n",
       "      <th>2023</th>\n",
       "      <th>Quý 1-2024</th>\n",
       "      <th>Quý 2-2024</th>\n",
       "    </tr>\n",
       "  </thead>\n",
       "  <tbody>\n",
       "    <tr>\n",
       "      <th>0</th>\n",
       "      <td>I.Tiền mặt, vàng bạc, đá quý</td>\n",
       "      <td>12,294,193,000,000</td>\n",
       "      <td>12,660,583,000,000</td>\n",
       "      <td>13,745,228,000,000</td>\n",
       "      <td>11,029,204,000,000</td>\n",
       "      <td>10,421,506,000,000</td>\n",
       "      <td>10,282,845,000,000</td>\n",
       "    </tr>\n",
       "    <tr>\n",
       "      <th>1</th>\n",
       "      <td>II.Tiền gửi tại Ngân hàng Nhà nước</td>\n",
       "      <td>49,432,144,000,000</td>\n",
       "      <td>68,851,444,000,000</td>\n",
       "      <td>111,418,448,000,000</td>\n",
       "      <td>51,615,657,000,000</td>\n",
       "      <td>36,833,913,000,000</td>\n",
       "      <td>52,441,064,000,000</td>\n",
       "    </tr>\n",
       "    <tr>\n",
       "      <th>2</th>\n",
       "      <td>III. Tiền gửi và cho vay các tổ chức tín dụng ...</td>\n",
       "      <td>85,347,858,000,000</td>\n",
       "      <td>135,940,229,000,000</td>\n",
       "      <td>221,177,798,000,000</td>\n",
       "      <td>211,808,501,000,000</td>\n",
       "      <td>231,693,608,000,000</td>\n",
       "      <td>266,799,524,000,000</td>\n",
       "    </tr>\n",
       "    <tr>\n",
       "      <th>3</th>\n",
       "      <td>1.Tiền gửi tại các tổ chức tín dụng khác</td>\n",
       "      <td>62,191,227,000,000</td>\n",
       "      <td>112,042,988,000,000</td>\n",
       "      <td>203,466,918,000,000</td>\n",
       "      <td>197,329,427,000,000</td>\n",
       "      <td>220,778,564,000,000</td>\n",
       "      <td>256,347,414,000,000</td>\n",
       "    </tr>\n",
       "    <tr>\n",
       "      <th>4</th>\n",
       "      <td>2.Cho vay các tổ chức tín dụng khác</td>\n",
       "      <td>23,295,457,000,000</td>\n",
       "      <td>24,026,575,000,000</td>\n",
       "      <td>17,795,874,000,000</td>\n",
       "      <td>14,564,284,000,000</td>\n",
       "      <td>10,998,123,000,000</td>\n",
       "      <td>10,544,382,000,000</td>\n",
       "    </tr>\n",
       "  </tbody>\n",
       "</table>\n",
       "</div>"
      ],
      "text/plain": [
       "                                            chỉ tiêu                2020  \\\n",
       "0                       I.Tiền mặt, vàng bạc, đá quý  12,294,193,000,000   \n",
       "1                 II.Tiền gửi tại Ngân hàng Nhà nước  49,432,144,000,000   \n",
       "2  III. Tiền gửi và cho vay các tổ chức tín dụng ...  85,347,858,000,000   \n",
       "3           1.Tiền gửi tại các tổ chức tín dụng khác  62,191,227,000,000   \n",
       "4                2.Cho vay các tổ chức tín dụng khác  23,295,457,000,000   \n",
       "\n",
       "                  2021                 2022                 2023  \\\n",
       "0   12,660,583,000,000   13,745,228,000,000   11,029,204,000,000   \n",
       "1   68,851,444,000,000  111,418,448,000,000   51,615,657,000,000   \n",
       "2  135,940,229,000,000  221,177,798,000,000  211,808,501,000,000   \n",
       "3  112,042,988,000,000  203,466,918,000,000  197,329,427,000,000   \n",
       "4   24,026,575,000,000   17,795,874,000,000   14,564,284,000,000   \n",
       "\n",
       "            Quý 1-2024           Quý 2-2024  \n",
       "0   10,421,506,000,000   10,282,845,000,000  \n",
       "1   36,833,913,000,000   52,441,064,000,000  \n",
       "2  231,693,608,000,000  266,799,524,000,000  \n",
       "3  220,778,564,000,000  256,347,414,000,000  \n",
       "4   10,998,123,000,000   10,544,382,000,000  "
      ]
     },
     "execution_count": 277,
     "metadata": {},
     "output_type": "execute_result"
    }
   ],
   "source": [
    "df_cdkt.head()"
   ]
  },
  {
   "cell_type": "markdown",
   "metadata": {},
   "source": [
    "Convert string to float"
   ]
  },
  {
   "cell_type": "code",
   "execution_count": 278,
   "metadata": {},
   "outputs": [],
   "source": [
    "def convert_col_to_float(df:pd.DataFrame, columns:list):\n",
    "    # copy df\n",
    "    df = df.copy(deep=True)\n",
    "\n",
    "    # convert all cols to float (dtype)\n",
    "    for col in columns:\n",
    "        if col in df.columns:\n",
    "            try:\n",
    "                df[col] = df[col].str.replace(\",\",\"\").astype(float)\n",
    "            except:\n",
    "                raise Exception(f\"Do not convert {col}\")\n",
    "    \n",
    "    return df"
   ]
  },
  {
   "cell_type": "code",
   "execution_count": 279,
   "metadata": {},
   "outputs": [],
   "source": [
    "col_all = ['2020','2021','2022','2023','Quý 1-2024','Quý 2-2024']\n",
    "df_cdkt = convert_col_to_float(df_cdkt, col_all)\n",
    "df_kqhdkd = convert_col_to_float(df_kqhdkd, col_all)\n",
    "df_lctttt = convert_col_to_float(df_lctttt, col_all)"
   ]
  },
  {
   "cell_type": "code",
   "execution_count": 280,
   "metadata": {},
   "outputs": [],
   "source": [
    "col_year = ['2020','2021','2022','2023']\n",
    "df_cdkt_year = convert_col_to_float(df_cdkt_year, col_year)\n",
    "df_kqhdkd_year = convert_col_to_float(df_kqhdkd_year, col_year)\n",
    "df_lctttt_year = convert_col_to_float(df_lctttt_year, col_year)"
   ]
  },
  {
   "cell_type": "markdown",
   "metadata": {},
   "source": [
    "## Analyze "
   ]
  },
  {
   "cell_type": "markdown",
   "metadata": {},
   "source": [
    "### Hiệu quả kinh doanh "
   ]
  },
  {
   "cell_type": "markdown",
   "metadata": {},
   "source": [
    "#### Biên lãi ròng\n",
    "\n",
    "- Lấy dữ liệu từ cân đối kế toán và kết quả hoạt động kinh doanh để tính toán\n"
   ]
  },
  {
   "cell_type": "code",
   "execution_count": 281,
   "metadata": {},
   "outputs": [
    {
     "data": {
      "text/html": [
       "<div>\n",
       "<style scoped>\n",
       "    .dataframe tbody tr th:only-of-type {\n",
       "        vertical-align: middle;\n",
       "    }\n",
       "\n",
       "    .dataframe tbody tr th {\n",
       "        vertical-align: top;\n",
       "    }\n",
       "\n",
       "    .dataframe thead th {\n",
       "        text-align: right;\n",
       "    }\n",
       "</style>\n",
       "<table border=\"1\" class=\"dataframe\">\n",
       "  <thead>\n",
       "    <tr style=\"text-align: right;\">\n",
       "      <th></th>\n",
       "      <th>chỉ tiêu</th>\n",
       "      <th>2020</th>\n",
       "      <th>2021</th>\n",
       "      <th>2022</th>\n",
       "      <th>2023</th>\n",
       "      <th>Quý 1-2024</th>\n",
       "      <th>Quý 2-2024</th>\n",
       "    </tr>\n",
       "  </thead>\n",
       "  <tbody>\n",
       "    <tr>\n",
       "      <th>14</th>\n",
       "      <td>I. Thu nhập lãi thuần</td>\n",
       "      <td>3.579680e+13</td>\n",
       "      <td>4.682331e+13</td>\n",
       "      <td>5.606968e+13</td>\n",
       "      <td>5.613557e+13</td>\n",
       "      <td>1.354136e+13</td>\n",
       "      <td>1.483777e+13</td>\n",
       "    </tr>\n",
       "  </tbody>\n",
       "</table>\n",
       "</div>"
      ],
      "text/plain": [
       "                 chỉ tiêu          2020          2021          2022  \\\n",
       "14  I. Thu nhập lãi thuần  3.579680e+13  4.682331e+13  5.606968e+13   \n",
       "\n",
       "            2023    Quý 1-2024    Quý 2-2024  \n",
       "14  5.613557e+13  1.354136e+13  1.483777e+13  "
      ]
     },
     "execution_count": 281,
     "metadata": {},
     "output_type": "execute_result"
    }
   ],
   "source": [
    "\n",
    "inc = df_kqhdkd.iloc[[14]]\n",
    "inc"
   ]
  },
  {
   "cell_type": "markdown",
   "metadata": {},
   "source": [
    "##### tài sản sinh lãi "
   ]
  },
  {
   "cell_type": "code",
   "execution_count": 282,
   "metadata": {},
   "outputs": [
    {
     "data": {
      "text/plain": [
       "chỉ tiêu        tài sản sinh lãi\n",
       "2020          1465304643000000.0\n",
       "2021          1713478306000000.0\n",
       "2022          2053929982000000.0\n",
       "2023          2230034373000000.0\n",
       "Quý 1-2024    2248397831000000.0\n",
       "Quý 2-2024    2424533167000000.0\n",
       "dtype: object"
      ]
     },
     "execution_count": 282,
     "metadata": {},
     "output_type": "execute_result"
    }
   ],
   "source": [
    "res = df_cdkt.iloc[[1,2,6,9,12]].sum(axis=0)\n",
    "res['chỉ tiêu'] = \"tài sản sinh lãi\"\n",
    "res \n"
   ]
  },
  {
   "cell_type": "code",
   "execution_count": 283,
   "metadata": {},
   "outputs": [
    {
     "data": {
      "text/plain": [
       "Index(['chỉ tiêu', '2020', '2021', '2022', '2023', 'Quý 1-2024', 'Quý 2-2024'], dtype='object')"
      ]
     },
     "execution_count": 283,
     "metadata": {},
     "output_type": "execute_result"
    }
   ],
   "source": [
    "res.index"
   ]
  },
  {
   "cell_type": "markdown",
   "metadata": {},
   "source": [
    "##### tài sản sinh lãi bình quân = (tài sản sinh lãi hiện tại+tài sản sinh lãi quá khứ)/2"
   ]
  },
  {
   "cell_type": "code",
   "execution_count": 284,
   "metadata": {},
   "outputs": [
    {
     "data": {
      "text/plain": [
       "2021                  1589391474500000.0\n",
       "2022                  1883704144000000.0\n",
       "2023                  2141982177500000.0\n",
       "Quý 1-2024            2239216102000000.0\n",
       "Quý 2-2024            2336465499000000.0\n",
       "chỉ tiêu      tài sản sinh lãi bình quân\n",
       "dtype: object"
      ]
     },
     "execution_count": 284,
     "metadata": {},
     "output_type": "execute_result"
    }
   ],
   "source": [
    "avg_cols = col_all[1:]\n",
    "avg = res[avg_cols].copy()\n",
    "temp_cols = col_all[:-1]\n",
    "temp = res[temp_cols].copy()\n",
    "temp = temp.set_axis(avg_cols)\n",
    "avg = (avg + temp) / 2\n",
    "avg[\"chỉ tiêu\"] = \"tài sản sinh lãi bình quân\"\n",
    "avg"
   ]
  },
  {
   "cell_type": "markdown",
   "metadata": {},
   "source": [
    "##### tính Nim từ năm 2021 đến quý 2-2024 NIM = thu nhập lãi thuần/ tài sản sinh lời bình quân"
   ]
  },
  {
   "cell_type": "code",
   "execution_count": 285,
   "metadata": {},
   "outputs": [
    {
     "data": {
      "text/html": [
       "<div>\n",
       "<style scoped>\n",
       "    .dataframe tbody tr th:only-of-type {\n",
       "        vertical-align: middle;\n",
       "    }\n",
       "\n",
       "    .dataframe tbody tr th {\n",
       "        vertical-align: top;\n",
       "    }\n",
       "\n",
       "    .dataframe thead th {\n",
       "        text-align: right;\n",
       "    }\n",
       "</style>\n",
       "<table border=\"1\" class=\"dataframe\">\n",
       "  <thead>\n",
       "    <tr style=\"text-align: right;\">\n",
       "      <th></th>\n",
       "      <th>2021</th>\n",
       "      <th>2022</th>\n",
       "      <th>2023</th>\n",
       "      <th>Quý 1-2024</th>\n",
       "      <th>Quý 2-2024</th>\n",
       "      <th>chỉ tiêu</th>\n",
       "    </tr>\n",
       "  </thead>\n",
       "  <tbody>\n",
       "    <tr>\n",
       "      <th>14</th>\n",
       "      <td>2.94599</td>\n",
       "      <td>2.976565</td>\n",
       "      <td>2.62073</td>\n",
       "      <td>2.418947</td>\n",
       "      <td>2.540208</td>\n",
       "      <td>nim</td>\n",
       "    </tr>\n",
       "  </tbody>\n",
       "</table>\n",
       "</div>"
      ],
      "text/plain": [
       "       2021      2022     2023 Quý 1-2024 Quý 2-2024 chỉ tiêu\n",
       "14  2.94599  2.976565  2.62073   2.418947   2.540208      nim"
      ]
     },
     "execution_count": 285,
     "metadata": {},
     "output_type": "execute_result"
    }
   ],
   "source": [
    "nim = inc.copy()\n",
    "nim_cols = list(set(nim.columns)-set([\"chỉ tiêu\",\"2020\"]))\n",
    "nim_cols.sort() # sort after using set subtraction\n",
    "nim[nim_cols] = (inc[nim_cols]/avg[nim_cols])*100\n",
    "nim[\"Quý 1-2024\"] = nim[\"Quý 1-2024\"]*4\n",
    "nim[\"Quý 2-2024\"] = nim[\"Quý 2-2024\"]*4\n",
    "nim = nim[[\"2021\",\"2022\",\"2023\",\"Quý 1-2024\", \"Quý 2-2024\"]]\n",
    "nim[\"chỉ tiêu\"] = \"nim\"\n",
    "nim"
   ]
  },
  {
   "cell_type": "markdown",
   "metadata": {},
   "source": [
    "##### Visualize NIM "
   ]
  },
  {
   "cell_type": "code",
   "execution_count": 286,
   "metadata": {},
   "outputs": [
    {
     "data": {
      "image/png": "[encoded data removed]",
      "text/plain": [
       "<Figure size 800x500 with 1 Axes>"
      ]
     },
     "metadata": {},
     "output_type": "display_data"
    }
   ],
   "source": [
    "years = nim_cols\n",
    "nim_values = nim[nim_cols].values.tolist()[0]\n",
    "\n",
    "df_nim = pd.DataFrame({'Year': years, 'NIM': nim_values})\n",
    "\n",
    "# Vẽ biểu đồ đường (line chart)\n",
    "plt.figure(figsize=(8, 5))\n",
    "plt.plot(df_nim['Year'], df_nim['NIM'], marker='o', linestyle='-', color='#6CA6CD', linewidth=2)\n",
    "\n",
    "# Thêm số liệu lên biểu đồ\n",
    "for i in range(len(df_nim)):\n",
    "    plt.text(df_nim['Year'][i], df_nim['NIM'][i] + 0.02, f'{df_nim[\"NIM\"][i]:.2f}', ha='center', fontsize=9)\n",
    "\n",
    "# Định dạng biểu đồ\n",
    "plt.ylim(2.0, 3.5)\n",
    "plt.yticks([2.0, 2.5, 3.0, 3.5])\n",
    "plt.ylabel('NIM (%)')\n",
    "plt.title('Biểu đồ NIM giai đoạn 2021-2024')\n",
    "\n",
    "# Hiển thị biểu đồ\n",
    "plt.show()"
   ]
  },
  {
   "cell_type": "markdown",
   "metadata": {},
   "source": [
    "#### Tăng trưởng thu nhập lãi thuần và lãi từ hoạt động dịch vụ "
   ]
  },
  {
   "cell_type": "code",
   "execution_count": 287,
   "metadata": {},
   "outputs": [],
   "source": [
    "# df1"
   ]
  },
  {
   "cell_type": "markdown",
   "metadata": {},
   "source": [
    "##### lấy dữ liệu thu nhập lãi thuần và lãi/lỗ thuần từ hoạt động dịch vụ\n"
   ]
  },
  {
   "cell_type": "code",
   "execution_count": 288,
   "metadata": {},
   "outputs": [
    {
     "data": {
      "text/plain": [
       "chỉ tiêu    I. Thu nhập lãi thuần\n",
       "2020             35796799000000.0\n",
       "2021             46823308000000.0\n",
       "2022             56069684000000.0\n",
       "2023             56135566000000.0\n",
       "Name: 14, dtype: object"
      ]
     },
     "execution_count": 288,
     "metadata": {},
     "output_type": "execute_result"
    }
   ],
   "source": [
    "# dữ liệu thu nhập lãi thuần \n",
    "pf = df_kqhdkd_year.iloc[14]\n",
    "pf"
   ]
  },
  {
   "cell_type": "code",
   "execution_count": 289,
   "metadata": {},
   "outputs": [
    {
     "data": {
      "text/plain": [
       "chỉ tiêu    II. Lãi/lỗ thuần từ hoạt động dịch vụ\n",
       "2020                              5266381000000.0\n",
       "2021                              6614281000000.0\n",
       "2022                              5648065000000.0\n",
       "2023                              6569870000000.0\n",
       "Name: 17, dtype: object"
      ]
     },
     "execution_count": 289,
     "metadata": {},
     "output_type": "execute_result"
    }
   ],
   "source": [
    "# dữ liệu lãi/lỗ thuần từ hoạt động dịch vụ\n",
    "ps = df_kqhdkd_year.iloc[17]\n",
    "ps"
   ]
  },
  {
   "cell_type": "code",
   "execution_count": 290,
   "metadata": {},
   "outputs": [
    {
     "data": {
      "text/html": [
       "<div>\n",
       "<style scoped>\n",
       "    .dataframe tbody tr th:only-of-type {\n",
       "        vertical-align: middle;\n",
       "    }\n",
       "\n",
       "    .dataframe tbody tr th {\n",
       "        vertical-align: top;\n",
       "    }\n",
       "\n",
       "    .dataframe thead th {\n",
       "        text-align: right;\n",
       "    }\n",
       "</style>\n",
       "<table border=\"1\" class=\"dataframe\">\n",
       "  <thead>\n",
       "    <tr style=\"text-align: right;\">\n",
       "      <th></th>\n",
       "      <th>chỉ tiêu</th>\n",
       "      <th>2020</th>\n",
       "      <th>2021</th>\n",
       "      <th>2022</th>\n",
       "      <th>2023</th>\n",
       "    </tr>\n",
       "  </thead>\n",
       "  <tbody>\n",
       "    <tr>\n",
       "      <th>0</th>\n",
       "      <td>I. Thu nhập lãi thuần</td>\n",
       "      <td>35796799000000.0</td>\n",
       "      <td>46823308000000.0</td>\n",
       "      <td>56069684000000.0</td>\n",
       "      <td>56135566000000.0</td>\n",
       "    </tr>\n",
       "    <tr>\n",
       "      <th>1</th>\n",
       "      <td>II. Lãi/lỗ thuần từ hoạt động dịch vụ</td>\n",
       "      <td>5266381000000.0</td>\n",
       "      <td>6614281000000.0</td>\n",
       "      <td>5648065000000.0</td>\n",
       "      <td>6569870000000.0</td>\n",
       "    </tr>\n",
       "  </tbody>\n",
       "</table>\n",
       "</div>"
      ],
      "text/plain": [
       "                                chỉ tiêu              2020              2021  \\\n",
       "0                  I. Thu nhập lãi thuần  35796799000000.0  46823308000000.0   \n",
       "1  II. Lãi/lỗ thuần từ hoạt động dịch vụ   5266381000000.0   6614281000000.0   \n",
       "\n",
       "               2022              2023  \n",
       "0  56069684000000.0  56135566000000.0  \n",
       "1   5648065000000.0   6569870000000.0  "
      ]
     },
     "execution_count": 290,
     "metadata": {},
     "output_type": "execute_result"
    }
   ],
   "source": [
    "pfs = pd.concat([pf,ps], axis=1).T.reset_index(drop=True)\n",
    "pfs"
   ]
  },
  {
   "cell_type": "markdown",
   "metadata": {},
   "source": [
    "##### tăng trưởng thu nhập lãi thuần\n",
    "tăng trưởng thu nhập lãi thuần = [(lãi thuần kỳ này - lãi thuần kỳ trước)/lãi thuần kì trước]*100%"
   ]
  },
  {
   "cell_type": "code",
   "execution_count": 291,
   "metadata": {},
   "outputs": [
    {
     "data": {
      "text/plain": [
       "2021                             30.803059\n",
       "2022                             19.747379\n",
       "2023                                0.1175\n",
       "chỉ tiêu    Tăng trưởng thu nhập lãi thuần\n",
       "Name: 14, dtype: object"
      ]
     },
     "execution_count": 291,
     "metadata": {},
     "output_type": "execute_result"
    }
   ],
   "source": [
    "yoy_cols = col_year[1:]\n",
    "yoy = pf[yoy_cols].copy()\n",
    "temp_cols = col_year[:-1]\n",
    "temp = pf[temp_cols].copy()\n",
    "temp = temp.set_axis(yoy_cols)\n",
    "yoy = ((yoy - temp)/temp)*100\n",
    "yoy[\"chỉ tiêu\"] = \"Tăng trưởng thu nhập lãi thuần\"\n",
    "yoy"
   ]
  },
  {
   "cell_type": "markdown",
   "metadata": {},
   "source": [
    "##### tăng trưởng lãi từ hoạt động dịch vụ \n"
   ]
  },
  {
   "cell_type": "code",
   "execution_count": 292,
   "metadata": {},
   "outputs": [
    {
     "data": {
      "text/plain": [
       "2021                                            25.594426\n",
       "2022                                           -14.608028\n",
       "2023                                            16.320722\n",
       "chỉ tiêu    Tăng trưởng lãi/lỗ thuần từ hoạt động dịch vụ\n",
       "Name: 17, dtype: object"
      ]
     },
     "execution_count": 292,
     "metadata": {},
     "output_type": "execute_result"
    }
   ],
   "source": [
    "yoy_cols = col_year[1:]\n",
    "yoy1 = ps[yoy_cols].copy()\n",
    "temp_cols = col_year[:-1]\n",
    "temp = ps[temp_cols].copy()\n",
    "temp = temp.set_axis(yoy_cols)\n",
    "yoy1 = ((yoy1 - temp)/temp)*100\n",
    "yoy1[\"chỉ tiêu\"] = \"Tăng trưởng lãi/lỗ thuần từ hoạt động dịch vụ\"\n",
    "yoy1"
   ]
  },
  {
   "cell_type": "code",
   "execution_count": 293,
   "metadata": {},
   "outputs": [
    {
     "data": {
      "text/html": [
       "<div>\n",
       "<style scoped>\n",
       "    .dataframe tbody tr th:only-of-type {\n",
       "        vertical-align: middle;\n",
       "    }\n",
       "\n",
       "    .dataframe tbody tr th {\n",
       "        vertical-align: top;\n",
       "    }\n",
       "\n",
       "    .dataframe thead th {\n",
       "        text-align: right;\n",
       "    }\n",
       "</style>\n",
       "<table border=\"1\" class=\"dataframe\">\n",
       "  <thead>\n",
       "    <tr style=\"text-align: right;\">\n",
       "      <th></th>\n",
       "      <th>2021</th>\n",
       "      <th>2022</th>\n",
       "      <th>2023</th>\n",
       "      <th>chỉ tiêu</th>\n",
       "    </tr>\n",
       "  </thead>\n",
       "  <tbody>\n",
       "    <tr>\n",
       "      <th>0</th>\n",
       "      <td>30.803059</td>\n",
       "      <td>19.747379</td>\n",
       "      <td>0.1175</td>\n",
       "      <td>Tăng trưởng thu nhập lãi thuần</td>\n",
       "    </tr>\n",
       "    <tr>\n",
       "      <th>1</th>\n",
       "      <td>25.594426</td>\n",
       "      <td>-14.608028</td>\n",
       "      <td>16.320722</td>\n",
       "      <td>Tăng trưởng lãi/lỗ thuần từ hoạt động dịch vụ</td>\n",
       "    </tr>\n",
       "  </tbody>\n",
       "</table>\n",
       "</div>"
      ],
      "text/plain": [
       "        2021       2022       2023  \\\n",
       "0  30.803059  19.747379     0.1175   \n",
       "1  25.594426 -14.608028  16.320722   \n",
       "\n",
       "                                        chỉ tiêu  \n",
       "0                 Tăng trưởng thu nhập lãi thuần  \n",
       "1  Tăng trưởng lãi/lỗ thuần từ hoạt động dịch vụ  "
      ]
     },
     "execution_count": 293,
     "metadata": {},
     "output_type": "execute_result"
    }
   ],
   "source": [
    "yoy = pd.concat([yoy, yoy1], axis=1).T.reset_index(drop=True)\n",
    "yoy"
   ]
  },
  {
   "cell_type": "markdown",
   "metadata": {},
   "source": [
    "##### Visualize"
   ]
  },
  {
   "cell_type": "code",
   "execution_count": 294,
   "metadata": {},
   "outputs": [],
   "source": [
    "# Dữ liệu cho Bar Chart (Thu nhập lãi thuần và Lãi từ hoạt động dịch vụ)\n",
    "year_indices = [\"2020\", \"2021\", \"2022\", \"2023\"]\n",
    "years = [2020, 2021, 2022, 2023]\n",
    "income = pfs[pfs[\"chỉ tiêu\"] == \"I. Thu nhập lãi thuần\"][year_indices].to_numpy()[0]\n",
    "profit_loss = pfs[pfs[\"chỉ tiêu\"] == \"II. Lãi/lỗ thuần từ hoạt động dịch vụ\"][\n",
    "    year_indices\n",
    "].to_numpy()[0]\n",
    "\n",
    "# Dữ liệu cho Line Graph (Tăng trưởng thu nhập lãi thuần và Tăng trưởng lãi từ hoạt động dịch vụ)\n",
    "income_growth_year_indices = [\"2021\", \"2022\", \"2023\"]\n",
    "income_growth_years = [2021, 2022, 2023]\n",
    "income_growth = yoy[yoy[\"chỉ tiêu\"] == \"Tăng trưởng thu nhập lãi thuần\"][\n",
    "    income_growth_year_indices\n",
    "].to_numpy()[0]\n",
    "profit_loss_growth = yoy[\n",
    "    yoy[\"chỉ tiêu\"] == \"Tăng trưởng lãi/lỗ thuần từ hoạt động dịch vụ\"\n",
    "][income_growth_year_indices].to_numpy()[0]\n"
   ]
  },
  {
   "cell_type": "code",
   "execution_count": 295,
   "metadata": {},
   "outputs": [
    {
     "data": {
      "image/png": "[encoded data removed]",
      "text/plain": [
       "<Figure size 800x500 with 2 Axes>"
      ]
     },
     "metadata": {},
     "output_type": "display_data"
    }
   ],
   "source": [
    "\n",
    "fig, ax1 = plt.subplots(figsize=(8, 5))\n",
    "\n",
    "# Vẽ Bar Chart trên trục y1\n",
    "bar_width = 0.35\n",
    "bar1 = ax1.bar(years, income, bar_width, label=\"Thu nhập lãi thuần\", color=\"#92c5de\")\n",
    "bar2 = ax1.bar(\n",
    "    np.array(years) + bar_width,\n",
    "    profit_loss,\n",
    "    bar_width,\n",
    "    label=\"Lãi từ hoạt động dịch vụ\",\n",
    "    color=\"#0571b0\",\n",
    ")\n",
    "\n",
    "# Thiết lập trục y1 (trục bên trái)\n",
    "ax1.set_xlabel(\"Năm\")\n",
    "ax1.set_ylabel(\"Tỷ VND\", color=\"black\")\n",
    "ax1.set_ylim(0, 70000000000000)\n",
    "ax1.set_xticks(np.array(years) + bar_width / 2)\n",
    "ax1.set_xticklabels(years)\n",
    "ax1.tick_params(axis=\"y\", labelcolor=\"black\")\n",
    "\n",
    "# Tạo trục y2 (trục bên phải)\n",
    "ax2 = ax1.twinx()\n",
    "ax2.set_ylabel(\"Tăng trưởng (%)\", color=\"black\")\n",
    "ax2.set_ylim(-20, 40)\n",
    "ax2.tick_params(axis=\"y\", labelcolor=\"black\")\n",
    "\n",
    "# Vẽ Line Graph trên trục y2\n",
    "line1 = ax2.plot(\n",
    "    income_growth_years,\n",
    "    income_growth,\n",
    "    label=\"Tăng trưởng thu nhập lãi thuần\",\n",
    "    color=\"black\",\n",
    "    marker=\"o\",\n",
    ")\n",
    "line2 = ax2.plot(\n",
    "    income_growth_years,\n",
    "    profit_loss_growth,\n",
    "    label=\"Tăng trưởng lãi dịch vụ\",\n",
    "    color=\"darkblue\",\n",
    "    marker=\"o\",\n",
    ")\n",
    "\n",
    "# Hiển thị legend\n",
    "ax1.legend(loc=\"upper left\", bbox_to_anchor=(0.5, -0.15))\n",
    "ax2.legend(loc=\"upper right\", bbox_to_anchor=(0.5, -0.15))\n",
    "\n",
    "plt.title(\"Tăng trưởng thu nhập lãi thuần và Lãi từ hoạt động dịch vụ qua các năm\")\n",
    "plt.show()"
   ]
  },
  {
   "cell_type": "markdown",
   "metadata": {},
   "source": [
    "#### Tăng trưởng thu nhập hoạt động và LNST năm 2020 - 2023"
   ]
  },
  {
   "cell_type": "code",
   "execution_count": 296,
   "metadata": {},
   "outputs": [
    {
     "data": {
      "text/html": [
       "<div>\n",
       "<style scoped>\n",
       "    .dataframe tbody tr th:only-of-type {\n",
       "        vertical-align: middle;\n",
       "    }\n",
       "\n",
       "    .dataframe tbody tr th {\n",
       "        vertical-align: top;\n",
       "    }\n",
       "\n",
       "    .dataframe thead th {\n",
       "        text-align: right;\n",
       "    }\n",
       "</style>\n",
       "<table border=\"1\" class=\"dataframe\">\n",
       "  <thead>\n",
       "    <tr style=\"text-align: right;\">\n",
       "      <th></th>\n",
       "      <th>chỉ tiêu</th>\n",
       "      <th>2020</th>\n",
       "      <th>2021</th>\n",
       "      <th>2022</th>\n",
       "      <th>2023</th>\n",
       "    </tr>\n",
       "  </thead>\n",
       "  <tbody>\n",
       "    <tr>\n",
       "      <th>0</th>\n",
       "      <td>Tổng doanh thu</td>\n",
       "      <td>117,452,648,000,000</td>\n",
       "      <td>120,523,066,000,000</td>\n",
       "      <td>138,272,273,000,000</td>\n",
       "      <td>171,552,516,000,000</td>\n",
       "    </tr>\n",
       "    <tr>\n",
       "      <th>1</th>\n",
       "      <td>Tổng lợi nhuận trước thuế</td>\n",
       "      <td>9,026,243,000,000</td>\n",
       "      <td>13,547,651,000,000</td>\n",
       "      <td>23,009,485,000,000</td>\n",
       "      <td>27,588,904,000,000</td>\n",
       "    </tr>\n",
       "    <tr>\n",
       "      <th>2</th>\n",
       "      <td>Tổng chi phí</td>\n",
       "      <td>71,142,633,000,000</td>\n",
       "      <td>60,719,003,000,000</td>\n",
       "      <td>72,053,245,000,000</td>\n",
       "      <td>131,504,604,000,000</td>\n",
       "    </tr>\n",
       "    <tr>\n",
       "      <th>3</th>\n",
       "      <td>Lợi nhuận ròng</td>\n",
       "      <td>6,996,622,000,000</td>\n",
       "      <td>10,540,138,000,000</td>\n",
       "      <td>18,158,502,000,000</td>\n",
       "      <td>21,504,918,000,000</td>\n",
       "    </tr>\n",
       "    <tr>\n",
       "      <th>4</th>\n",
       "      <td>Tổng chi phí hoạt động</td>\n",
       "      <td>17,692,960,000,000</td>\n",
       "      <td>19,465,321,000,000</td>\n",
       "      <td>22,557,474,000,000</td>\n",
       "      <td>25,080,598,000,000</td>\n",
       "    </tr>\n",
       "    <tr>\n",
       "      <th>5</th>\n",
       "      <td>Tổng thu nhập hoạt động</td>\n",
       "      <td>50,037,144,000,000</td>\n",
       "      <td>62,493,889,000,000</td>\n",
       "      <td>69,582,444,000,000</td>\n",
       "      <td>73,013,017,000,000</td>\n",
       "    </tr>\n",
       "  </tbody>\n",
       "</table>\n",
       "</div>"
      ],
      "text/plain": [
       "                    chỉ tiêu                 2020                 2021  \\\n",
       "0             Tổng doanh thu  117,452,648,000,000  120,523,066,000,000   \n",
       "1  Tổng lợi nhuận trước thuế    9,026,243,000,000   13,547,651,000,000   \n",
       "2               Tổng chi phí   71,142,633,000,000   60,719,003,000,000   \n",
       "3             Lợi nhuận ròng    6,996,622,000,000   10,540,138,000,000   \n",
       "4     Tổng chi phí hoạt động   17,692,960,000,000   19,465,321,000,000   \n",
       "5    Tổng thu nhập hoạt động   50,037,144,000,000   62,493,889,000,000   \n",
       "\n",
       "                  2022                 2023  \n",
       "0  138,272,273,000,000  171,552,516,000,000  \n",
       "1   23,009,485,000,000   27,588,904,000,000  \n",
       "2   72,053,245,000,000  131,504,604,000,000  \n",
       "3   18,158,502,000,000   21,504,918,000,000  \n",
       "4   22,557,474,000,000   25,080,598,000,000  \n",
       "5   69,582,444,000,000   73,013,017,000,000  "
      ]
     },
     "execution_count": 296,
     "metadata": {},
     "output_type": "execute_result"
    }
   ],
   "source": [
    "df_thkt = pd.read_csv(\"dataset/tình_hình_kinh_tế.csv\")\n",
    "df_thkt "
   ]
  },
  {
   "cell_type": "code",
   "execution_count": 297,
   "metadata": {},
   "outputs": [
    {
     "data": {
      "text/plain": [
       "['2020', '2021', '2022', '2023']"
      ]
     },
     "execution_count": 297,
     "metadata": {},
     "output_type": "execute_result"
    }
   ],
   "source": [
    "col_year"
   ]
  },
  {
   "cell_type": "code",
   "execution_count": 298,
   "metadata": {},
   "outputs": [
    {
     "data": {
      "text/plain": [
       "chỉ tiêu     object\n",
       "2020        float64\n",
       "2021        float64\n",
       "2022        float64\n",
       "2023        float64\n",
       "dtype: object"
      ]
     },
     "execution_count": 298,
     "metadata": {},
     "output_type": "execute_result"
    }
   ],
   "source": [
    "df_thkt = convert_col_to_float(df_thkt,col_year)\n",
    "df_thkt.dtypes"
   ]
  },
  {
   "cell_type": "code",
   "execution_count": 299,
   "metadata": {},
   "outputs": [
    {
     "data": {
      "text/plain": [
       "chỉ tiêu    Tổng thu nhập hoạt động\n",
       "2020               50037144000000.0\n",
       "2021               62493889000000.0\n",
       "2022               69582444000000.0\n",
       "2023               73013017000000.0\n",
       "Name: 5, dtype: object"
      ]
     },
     "execution_count": 299,
     "metadata": {},
     "output_type": "execute_result"
    }
   ],
   "source": [
    "income= df_thkt.iloc[5]\n",
    "income"
   ]
  },
  {
   "cell_type": "code",
   "execution_count": 300,
   "metadata": {},
   "outputs": [
    {
     "data": {
      "text/plain": [
       "2021                             24.894996\n",
       "2022                             11.342797\n",
       "2023                              4.930228\n",
       "chỉ tiêu    tăng trưởng thu nhập hoạt động\n",
       "Name: 5, dtype: object"
      ]
     },
     "execution_count": 300,
     "metadata": {},
     "output_type": "execute_result"
    }
   ],
   "source": [
    "# Tăng trưởng thu nhập hoạt động\n",
    "TOI_cols = ['2021', '2022', '2023']\n",
    "TOI = income[TOI_cols].copy()    \n",
    "temp_cols = ['2020', '2021', '2022']\n",
    "temp = income[temp_cols].copy()\n",
    "temp = temp.set_axis(TOI_cols)\n",
    "TOI = ((TOI - temp)/temp)*100\n",
    "TOI[\"chỉ tiêu\"] = \"tăng trưởng thu nhập hoạt động\"\n",
    "TOI\n"
   ]
  },
  {
   "cell_type": "code",
   "execution_count": 301,
   "metadata": {},
   "outputs": [
    {
     "data": {
      "text/plain": [
       "chỉ tiêu    XIII. Lợi nhuận sau thuế\n",
       "2020                 7223565000000.0\n",
       "2021                10841271000000.0\n",
       "2022                18420014000000.0\n",
       "2023                21977141000000.0\n",
       "Name: 11, dtype: object"
      ]
     },
     "execution_count": 301,
     "metadata": {},
     "output_type": "execute_result"
    }
   ],
   "source": [
    "# Lợi nhuận sau thuế\n",
    "pat = df_kqhdkd_year.iloc[11]\n",
    "pat"
   ]
  },
  {
   "cell_type": "code",
   "execution_count": 302,
   "metadata": {},
   "outputs": [
    {
     "data": {
      "text/plain": [
       "2021                             50.082002\n",
       "2022                             69.906407\n",
       "2023                             19.311207\n",
       "chỉ tiêu    tăng trưởng lợi nhuận sau thuế\n",
       "Name: 11, dtype: object"
      ]
     },
     "execution_count": 302,
     "metadata": {},
     "output_type": "execute_result"
    }
   ],
   "source": [
    "# Tăng trưởng lợi nhuận sau thuế\n",
    "LNST_cols = ['2021', '2022', '2023']\n",
    "LNST = pat[LNST_cols].copy()    \n",
    "temp_cols = ['2020', '2021', '2022']\n",
    "temp = pat[temp_cols].copy()\n",
    "temp = temp.set_axis(LNST_cols)\n",
    "LNST = ((LNST - temp)/temp)*100\n",
    "LNST[\"chỉ tiêu\"] = \"tăng trưởng lợi nhuận sau thuế\"\n",
    "LNST"
   ]
  },
  {
   "cell_type": "code",
   "execution_count": 303,
   "metadata": {},
   "outputs": [
    {
     "data": {
      "text/html": [
       "<div>\n",
       "<style scoped>\n",
       "    .dataframe tbody tr th:only-of-type {\n",
       "        vertical-align: middle;\n",
       "    }\n",
       "\n",
       "    .dataframe tbody tr th {\n",
       "        vertical-align: top;\n",
       "    }\n",
       "\n",
       "    .dataframe thead th {\n",
       "        text-align: right;\n",
       "    }\n",
       "</style>\n",
       "<table border=\"1\" class=\"dataframe\">\n",
       "  <thead>\n",
       "    <tr style=\"text-align: right;\">\n",
       "      <th></th>\n",
       "      <th>chỉ tiêu</th>\n",
       "      <th>2020</th>\n",
       "      <th>2021</th>\n",
       "      <th>2022</th>\n",
       "      <th>2023</th>\n",
       "    </tr>\n",
       "  </thead>\n",
       "  <tbody>\n",
       "    <tr>\n",
       "      <th>0</th>\n",
       "      <td>Tổng thu nhập hoạt động</td>\n",
       "      <td>50037144000000.0</td>\n",
       "      <td>62493889000000.0</td>\n",
       "      <td>69582444000000.0</td>\n",
       "      <td>73013017000000.0</td>\n",
       "    </tr>\n",
       "    <tr>\n",
       "      <th>1</th>\n",
       "      <td>XIII. Lợi nhuận sau thuế</td>\n",
       "      <td>7223565000000.0</td>\n",
       "      <td>10841271000000.0</td>\n",
       "      <td>18420014000000.0</td>\n",
       "      <td>21977141000000.0</td>\n",
       "    </tr>\n",
       "  </tbody>\n",
       "</table>\n",
       "</div>"
      ],
      "text/plain": [
       "                   chỉ tiêu              2020              2021  \\\n",
       "0   Tổng thu nhập hoạt động  50037144000000.0  62493889000000.0   \n",
       "1  XIII. Lợi nhuận sau thuế   7223565000000.0  10841271000000.0   \n",
       "\n",
       "               2022              2023  \n",
       "0  69582444000000.0  73013017000000.0  \n",
       "1  18420014000000.0  21977141000000.0  "
      ]
     },
     "execution_count": 303,
     "metadata": {},
     "output_type": "execute_result"
    }
   ],
   "source": [
    "In = pd.concat([income,pat], axis=1).T.reset_index(drop=True)\n",
    "In"
   ]
  },
  {
   "cell_type": "code",
   "execution_count": 304,
   "metadata": {},
   "outputs": [
    {
     "data": {
      "text/html": [
       "<div>\n",
       "<style scoped>\n",
       "    .dataframe tbody tr th:only-of-type {\n",
       "        vertical-align: middle;\n",
       "    }\n",
       "\n",
       "    .dataframe tbody tr th {\n",
       "        vertical-align: top;\n",
       "    }\n",
       "\n",
       "    .dataframe thead th {\n",
       "        text-align: right;\n",
       "    }\n",
       "</style>\n",
       "<table border=\"1\" class=\"dataframe\">\n",
       "  <thead>\n",
       "    <tr style=\"text-align: right;\">\n",
       "      <th></th>\n",
       "      <th>2021</th>\n",
       "      <th>2022</th>\n",
       "      <th>2023</th>\n",
       "      <th>chỉ tiêu</th>\n",
       "    </tr>\n",
       "  </thead>\n",
       "  <tbody>\n",
       "    <tr>\n",
       "      <th>0</th>\n",
       "      <td>24.894996</td>\n",
       "      <td>11.342797</td>\n",
       "      <td>4.930228</td>\n",
       "      <td>tăng trưởng thu nhập hoạt động</td>\n",
       "    </tr>\n",
       "    <tr>\n",
       "      <th>1</th>\n",
       "      <td>50.082002</td>\n",
       "      <td>69.906407</td>\n",
       "      <td>19.311207</td>\n",
       "      <td>tăng trưởng lợi nhuận sau thuế</td>\n",
       "    </tr>\n",
       "  </tbody>\n",
       "</table>\n",
       "</div>"
      ],
      "text/plain": [
       "        2021       2022       2023                        chỉ tiêu\n",
       "0  24.894996  11.342797   4.930228  tăng trưởng thu nhập hoạt động\n",
       "1  50.082002  69.906407  19.311207  tăng trưởng lợi nhuận sau thuế"
      ]
     },
     "execution_count": 304,
     "metadata": {},
     "output_type": "execute_result"
    }
   ],
   "source": [
    "growth = pd.concat([TOI, LNST], axis=1).T.reset_index(drop=True)\n",
    "growth"
   ]
  },
  {
   "cell_type": "code",
   "execution_count": 305,
   "metadata": {},
   "outputs": [],
   "source": [
    "# Dữ liệu cho Bar Chart (Tổng thu nhập hoạt động và lợi nhuận sau thuế)\n",
    "year_indices = [\"2020\", \"2021\", \"2022\", \"2023\"]\n",
    "years = [2020,2021,2022,2023]\n",
    "\n",
    "total_operating_income = In[In[\"chỉ tiêu\"]==\"Tổng thu nhập hoạt động\"][year_indices].to_numpy()[0]\n",
    "NPAT = In[In[\"chỉ tiêu\"]==\"XIII. Lợi nhuận sau thuế\"][year_indices].to_numpy()[0]\n",
    "\n",
    "# Dữ liệu cho Line Graph (Tăng trưởng thu nhập hoạt động và lợi nhuận sau thuế)\n",
    "total_operating_income_growth_year_indices = [\"2021\", \"2022\", \"2023\"]\n",
    "total_operating_income_growth_years = [2021, 2022, 2023]\n",
    "\n",
    "total_operating_income_growth = growth[growth[\"chỉ tiêu\"]==\"tăng trưởng thu nhập hoạt động\"][total_operating_income_growth_year_indices].to_numpy()[0]\n",
    "NPAT_growth = growth[growth[\"chỉ tiêu\"]==\"tăng trưởng lợi nhuận sau thuế\"][total_operating_income_growth_year_indices].to_numpy()[0]\n"
   ]
  },
  {
   "cell_type": "code",
   "execution_count": 306,
   "metadata": {},
   "outputs": [
    {
     "data": {
      "image/png": "[encoded data removed]",
      "text/plain": [
       "<Figure size 900x500 with 2 Axes>"
      ]
     },
     "metadata": {},
     "output_type": "display_data"
    }
   ],
   "source": [
    "fig, ax1 = plt.subplots(figsize=(9,5))\n",
    "\n",
    "# Vẽ Bar Chart trên trục y1\n",
    "bar_width = 0.35\n",
    "bar1 = ax1.bar(years, total_operating_income, bar_width, label='Tổng thu nhập hoạt động', color='#92c5de')\n",
    "bar2 = ax1.bar(np.array(years) + bar_width, NPAT, bar_width, label='Lợi nhuận sau thuế', color='#0571b0')\n",
    "\n",
    "# Thiết lập trục y1 (trục bên trái)\n",
    "ax1.set_xlabel('Năm')\n",
    "ax1.set_ylabel('Tỷ VND', color='black')\n",
    "ax1.set_ylim(0, 80000000000000)\n",
    "ax1.set_xticks(np.array(years) + bar_width / 2)\n",
    "ax1.set_xticklabels(years)\n",
    "ax1.tick_params(axis='y', labelcolor='black')\n",
    "\n",
    "# Tạo trục y2 (trục bên phải)\n",
    "ax2 = ax1.twinx()\n",
    "ax2.set_ylabel('Tăng trưởng (%)', color='black')\n",
    "ax2.set_ylim(-20, 80)\n",
    "ax2.tick_params(axis='y', labelcolor='black')\n",
    "\n",
    "# Vẽ Line Graph trên trục y2\n",
    "line1 = ax2.plot(total_operating_income_growth_years, total_operating_income_growth, label='Tăng trưởng thu nhập hoạt động', color='black', marker='o')\n",
    "line2 = ax2.plot(total_operating_income_growth_years, NPAT_growth, label='Tăng trưởng lợi nhuận sau thuế', color='darkblue', marker='o')\n",
    "\n",
    "# Hiển thị legend\n",
    "ax1.legend(loc='upper left', bbox_to_anchor=(0.5, -0.15))\n",
    "ax2.legend(loc='upper right', bbox_to_anchor=(0.5, -0.15))\n",
    "plt.title('Tăng trưởng thu nhập hoạt động và lợi nhuận sau thuế')\n",
    "plt.show()"
   ]
  },
  {
   "cell_type": "markdown",
   "metadata": {},
   "source": [
    "Cơ cấu thu nhập ngoài lãi( dịch vụ, ngoại hối, chứng khoán, khác)"
   ]
  },
  {
   "cell_type": "code",
   "execution_count": 307,
   "metadata": {},
   "outputs": [],
   "source": [
    "# df14"
   ]
  },
  {
   "cell_type": "code",
   "execution_count": 308,
   "metadata": {},
   "outputs": [
    {
     "data": {
      "text/html": [
       "<div>\n",
       "<style scoped>\n",
       "    .dataframe tbody tr th:only-of-type {\n",
       "        vertical-align: middle;\n",
       "    }\n",
       "\n",
       "    .dataframe tbody tr th {\n",
       "        vertical-align: top;\n",
       "    }\n",
       "\n",
       "    .dataframe thead th {\n",
       "        text-align: right;\n",
       "    }\n",
       "</style>\n",
       "<table border=\"1\" class=\"dataframe\">\n",
       "  <thead>\n",
       "    <tr style=\"text-align: right;\">\n",
       "      <th></th>\n",
       "      <th>chỉ tiêu</th>\n",
       "      <th>2020</th>\n",
       "      <th>2021</th>\n",
       "      <th>2022</th>\n",
       "      <th>2023</th>\n",
       "      <th>Quý 1-2024</th>\n",
       "      <th>Quý 2-2024</th>\n",
       "    </tr>\n",
       "  </thead>\n",
       "  <tbody>\n",
       "    <tr>\n",
       "      <th>0</th>\n",
       "      <td>II. Lãi/lỗ thuần từ hoạt động dịch vụ</td>\n",
       "      <td>5.266381e+12</td>\n",
       "      <td>6.614281e+12</td>\n",
       "      <td>5.648065e+12</td>\n",
       "      <td>6.569870e+12</td>\n",
       "      <td>1.693013e+12</td>\n",
       "      <td>1.939044e+12</td>\n",
       "    </tr>\n",
       "    <tr>\n",
       "      <th>1</th>\n",
       "      <td>III. Lãi/lỗ thuần từ hoạt động kinh doanh ngoạ...</td>\n",
       "      <td>1.732324e+12</td>\n",
       "      <td>1.896154e+12</td>\n",
       "      <td>3.136613e+12</td>\n",
       "      <td>4.707371e+12</td>\n",
       "      <td>1.465144e+12</td>\n",
       "      <td>1.725940e+12</td>\n",
       "    </tr>\n",
       "    <tr>\n",
       "      <th>2</th>\n",
       "      <td>IV. Lãi /lỗ thuần từ mua bán chứng khoán kinh ...</td>\n",
       "      <td>4.786680e+11</td>\n",
       "      <td>5.862410e+11</td>\n",
       "      <td>-3.166400e+10</td>\n",
       "      <td>3.053960e+11</td>\n",
       "      <td>1.668490e+11</td>\n",
       "      <td>7.874500e+10</td>\n",
       "    </tr>\n",
       "    <tr>\n",
       "      <th>3</th>\n",
       "      <td>V. Lãi/lỗ thuần từ mua bán chứng khoán đầu tư</td>\n",
       "      <td>1.516137e+12</td>\n",
       "      <td>2.074310e+11</td>\n",
       "      <td>2.584670e+11</td>\n",
       "      <td>2.871740e+12</td>\n",
       "      <td>-2.910920e+11</td>\n",
       "      <td>5.125280e+11</td>\n",
       "    </tr>\n",
       "  </tbody>\n",
       "</table>\n",
       "</div>"
      ],
      "text/plain": [
       "                                            chỉ tiêu          2020  \\\n",
       "0              II. Lãi/lỗ thuần từ hoạt động dịch vụ  5.266381e+12   \n",
       "1  III. Lãi/lỗ thuần từ hoạt động kinh doanh ngoạ...  1.732324e+12   \n",
       "2  IV. Lãi /lỗ thuần từ mua bán chứng khoán kinh ...  4.786680e+11   \n",
       "3      V. Lãi/lỗ thuần từ mua bán chứng khoán đầu tư  1.516137e+12   \n",
       "\n",
       "           2021          2022          2023    Quý 1-2024    Quý 2-2024  \n",
       "0  6.614281e+12  5.648065e+12  6.569870e+12  1.693013e+12  1.939044e+12  \n",
       "1  1.896154e+12  3.136613e+12  4.707371e+12  1.465144e+12  1.725940e+12  \n",
       "2  5.862410e+11 -3.166400e+10  3.053960e+11  1.668490e+11  7.874500e+10  \n",
       "3  2.074310e+11  2.584670e+11  2.871740e+12 -2.910920e+11  5.125280e+11  "
      ]
     },
     "execution_count": 308,
     "metadata": {},
     "output_type": "execute_result"
    }
   ],
   "source": [
    "NISS= df_kqhdkd.tail(4).reset_index(drop=True)\n",
    "NISS"
   ]
  },
  {
   "cell_type": "code",
   "execution_count": 309,
   "metadata": {},
   "outputs": [
    {
     "data": {
      "text/plain": [
       "chỉ tiêu      tổng dịch vụ, ngoại hối, chứng khoán\n",
       "2020                               8993510000000.0\n",
       "2021                               9304107000000.0\n",
       "2022                               9011481000000.0\n",
       "2023                              14454377000000.0\n",
       "Quý 1-2024                         3033914000000.0\n",
       "Quý 2-2024                         4256257000000.0\n",
       "dtype: object"
      ]
     },
     "execution_count": 309,
     "metadata": {},
     "output_type": "execute_result"
    }
   ],
   "source": [
    "SUM = df_kqhdkd.iloc[[17,18,19,20]].sum(axis=0)\n",
    "SUM['chỉ tiêu'] = \"tổng dịch vụ, ngoại hối, chứng khoán\"\n",
    "SUM"
   ]
  },
  {
   "cell_type": "code",
   "execution_count": 310,
   "metadata": {},
   "outputs": [
    {
     "data": {
      "text/plain": [
       "chỉ tiêu      I. Thu nhập lãi thuần\n",
       "2020               35796799000000.0\n",
       "2021               46823308000000.0\n",
       "2022               56069684000000.0\n",
       "2023               56135566000000.0\n",
       "Quý 1-2024         13541360000000.0\n",
       "Quý 2-2024         14837771000000.0\n",
       "Name: 14, dtype: object"
      ]
     },
     "execution_count": 310,
     "metadata": {},
     "output_type": "execute_result"
    }
   ],
   "source": [
    "# thu nhập ngoài lãi = tổng thu nhập hoạt động- thu nhập lãi thuần \n",
    "TNLT = df_kqhdkd.iloc[14]\n",
    "TNLT\n"
   ]
  },
  {
   "cell_type": "code",
   "execution_count": 311,
   "metadata": {},
   "outputs": [
    {
     "data": {
      "text/html": [
       "<div>\n",
       "<style scoped>\n",
       "    .dataframe tbody tr th:only-of-type {\n",
       "        vertical-align: middle;\n",
       "    }\n",
       "\n",
       "    .dataframe tbody tr th {\n",
       "        vertical-align: top;\n",
       "    }\n",
       "\n",
       "    .dataframe thead th {\n",
       "        text-align: right;\n",
       "    }\n",
       "</style>\n",
       "<table border=\"1\" class=\"dataframe\">\n",
       "  <thead>\n",
       "    <tr style=\"text-align: right;\">\n",
       "      <th></th>\n",
       "      <th>chỉ tiêu</th>\n",
       "      <th>2020</th>\n",
       "      <th>2021</th>\n",
       "      <th>2022</th>\n",
       "      <th>2023</th>\n",
       "    </tr>\n",
       "  </thead>\n",
       "  <tbody>\n",
       "    <tr>\n",
       "      <th>0</th>\n",
       "      <td>Tổng thu nhập hoạt động</td>\n",
       "      <td>50037144000000.0</td>\n",
       "      <td>62493889000000.0</td>\n",
       "      <td>69582444000000.0</td>\n",
       "      <td>73013017000000.0</td>\n",
       "    </tr>\n",
       "  </tbody>\n",
       "</table>\n",
       "</div>"
      ],
      "text/plain": [
       "                  chỉ tiêu              2020              2021  \\\n",
       "0  Tổng thu nhập hoạt động  50037144000000.0  62493889000000.0   \n",
       "\n",
       "               2022              2023  \n",
       "0  69582444000000.0  73013017000000.0  "
      ]
     },
     "execution_count": 311,
     "metadata": {},
     "output_type": "execute_result"
    }
   ],
   "source": [
    "In = pd.DataFrame(income).T.reset_index(drop=True)\n",
    "In"
   ]
  },
  {
   "cell_type": "code",
   "execution_count": 312,
   "metadata": {},
   "outputs": [
    {
     "data": {
      "text/html": [
       "<div>\n",
       "<style scoped>\n",
       "    .dataframe tbody tr th:only-of-type {\n",
       "        vertical-align: middle;\n",
       "    }\n",
       "\n",
       "    .dataframe tbody tr th {\n",
       "        vertical-align: top;\n",
       "    }\n",
       "\n",
       "    .dataframe thead th {\n",
       "        text-align: right;\n",
       "    }\n",
       "</style>\n",
       "<table border=\"1\" class=\"dataframe\">\n",
       "  <thead>\n",
       "    <tr style=\"text-align: right;\">\n",
       "      <th></th>\n",
       "      <th>chỉ tiêu</th>\n",
       "      <th>Quý 1-2024</th>\n",
       "      <th>Quý 2-2024</th>\n",
       "    </tr>\n",
       "  </thead>\n",
       "  <tbody>\n",
       "    <tr>\n",
       "      <th>0</th>\n",
       "      <td>Tổng thu nhập hoạt động</td>\n",
       "      <td>17171234000000</td>\n",
       "      <td>20224897000000</td>\n",
       "    </tr>\n",
       "  </tbody>\n",
       "</table>\n",
       "</div>"
      ],
      "text/plain": [
       "                  chỉ tiêu      Quý 1-2024      Quý 2-2024\n",
       "0  Tổng thu nhập hoạt động  17171234000000  20224897000000"
      ]
     },
     "execution_count": 312,
     "metadata": {},
     "output_type": "execute_result"
    }
   ],
   "source": [
    "# nguồn cafef\n",
    "df_cafef = pd.DataFrame({'chỉ tiêu': [\"Tổng thu nhập hoạt động\"],\n",
    "                    'Quý 1-2024': [17171234000000],\n",
    "                    'Quý 2-2024':[20224897000000]})\n",
    "df_cafef\n"
   ]
  },
  {
   "cell_type": "code",
   "execution_count": 313,
   "metadata": {},
   "outputs": [
    {
     "data": {
      "text/plain": [
       "chỉ tiêu      Tổng thu nhập hoạt động\n",
       "2020                 50037144000000.0\n",
       "2021                 62493889000000.0\n",
       "2022                 69582444000000.0\n",
       "2023                 73013017000000.0\n",
       "Quý 1-2024             17171234000000\n",
       "Quý 2-2024             20224897000000\n",
       "Name: 0, dtype: object"
      ]
     },
     "execution_count": 313,
     "metadata": {},
     "output_type": "execute_result"
    }
   ],
   "source": [
    "# tổng thu nhập hoạt động\n",
    "In = pd.merge(In, df_cafef, on='chỉ tiêu', how='outer')\n",
    "inc = In.iloc[0]\n",
    "inc"
   ]
  },
  {
   "cell_type": "code",
   "execution_count": 314,
   "metadata": {},
   "outputs": [
    {
     "data": {
      "text/plain": [
       "2020            14240345000000.0\n",
       "2021            15670581000000.0\n",
       "2022            13512760000000.0\n",
       "2023            16877451000000.0\n",
       "Quý 1-2024       3629874000000.0\n",
       "Quý 2-2024       5387126000000.0\n",
       "chỉ tiêu      Thu nhập ngoài lãi\n",
       "dtype: object"
      ]
     },
     "execution_count": 314,
     "metadata": {},
     "output_type": "execute_result"
    }
   ],
   "source": [
    "# thu nhập ngoài lãi = tổng thu nhập hoạt đông - thu nhập lãi thuần (NII- thu nhập ngoài lãi)\n",
    "# \"cơ cấu lãi lỗ từ hoạt động dịch vụ\", \"cơ cấu lãi lỗ từ hoạt động kinh doanh ngoại hối\", \"cơ cấu lãi lỗ từ mua bán chứng khoán kinh doanh\", \"cơ cấu lãi lỗ từ mua bán chứng khoán đầu tư\"\n",
    "# NII = inc - TNLT\n",
    "X_cols = ['2020','2021','2022','2023','Quý 1-2024','Quý 2-2024']\n",
    "NII = inc[X_cols].copy()\n",
    "Y_cols = ['2020','2021','2022','2023','Quý 1-2024','Quý 2-2024']\n",
    "Y = TNLT[Y_cols].copy()\n",
    "Y = Y.set_axis(Y_cols)\n",
    "NII = (NII-Y)\n",
    "NII[\"chỉ tiêu\"] = \"Thu nhập ngoài lãi\"\n",
    "NII"
   ]
  },
  {
   "cell_type": "code",
   "execution_count": 315,
   "metadata": {},
   "outputs": [
    {
     "data": {
      "text/plain": [
       "2020                  5246835000000.0\n",
       "2021                  6366474000000.0\n",
       "2022                  4501279000000.0\n",
       "2023                  2423074000000.0\n",
       "Quý 1-2024             595960000000.0\n",
       "Quý 2-2024            1130869000000.0\n",
       "chỉ tiêu      Thu nhập ngoài lãi khác\n",
       "dtype: object"
      ]
     },
     "execution_count": 315,
     "metadata": {},
     "output_type": "execute_result"
    }
   ],
   "source": [
    "A_cols = ['2020','2021','2022','2023','Quý 1-2024','Quý 2-2024']\n",
    "DIF = NII[X_cols].copy()\n",
    "B_cols = ['2020','2021','2022','2023','Quý 1-2024','Quý 2-2024']\n",
    "B = SUM[B_cols].copy()\n",
    "B = B.set_axis(B_cols)\n",
    "DIF = (DIF-SUM)\n",
    "DIF[\"chỉ tiêu\"] = \"Thu nhập ngoài lãi khác\"\n",
    "DIF"
   ]
  },
  {
   "cell_type": "code",
   "execution_count": 316,
   "metadata": {},
   "outputs": [
    {
     "data": {
      "text/html": [
       "<div>\n",
       "<style scoped>\n",
       "    .dataframe tbody tr th:only-of-type {\n",
       "        vertical-align: middle;\n",
       "    }\n",
       "\n",
       "    .dataframe tbody tr th {\n",
       "        vertical-align: top;\n",
       "    }\n",
       "\n",
       "    .dataframe thead th {\n",
       "        text-align: right;\n",
       "    }\n",
       "</style>\n",
       "<table border=\"1\" class=\"dataframe\">\n",
       "  <thead>\n",
       "    <tr style=\"text-align: right;\">\n",
       "      <th></th>\n",
       "      <th>0</th>\n",
       "    </tr>\n",
       "  </thead>\n",
       "  <tbody>\n",
       "    <tr>\n",
       "      <th>2020</th>\n",
       "      <td>5246835000000.0</td>\n",
       "    </tr>\n",
       "    <tr>\n",
       "      <th>2021</th>\n",
       "      <td>6366474000000.0</td>\n",
       "    </tr>\n",
       "    <tr>\n",
       "      <th>2022</th>\n",
       "      <td>4501279000000.0</td>\n",
       "    </tr>\n",
       "    <tr>\n",
       "      <th>2023</th>\n",
       "      <td>2423074000000.0</td>\n",
       "    </tr>\n",
       "    <tr>\n",
       "      <th>Quý 1-2024</th>\n",
       "      <td>595960000000.0</td>\n",
       "    </tr>\n",
       "    <tr>\n",
       "      <th>Quý 2-2024</th>\n",
       "      <td>1130869000000.0</td>\n",
       "    </tr>\n",
       "    <tr>\n",
       "      <th>chỉ tiêu</th>\n",
       "      <td>Thu nhập ngoài lãi khác</td>\n",
       "    </tr>\n",
       "  </tbody>\n",
       "</table>\n",
       "</div>"
      ],
      "text/plain": [
       "                                  0\n",
       "2020                5246835000000.0\n",
       "2021                6366474000000.0\n",
       "2022                4501279000000.0\n",
       "2023                2423074000000.0\n",
       "Quý 1-2024           595960000000.0\n",
       "Quý 2-2024          1130869000000.0\n",
       "chỉ tiêu    Thu nhập ngoài lãi khác"
      ]
     },
     "execution_count": 316,
     "metadata": {},
     "output_type": "execute_result"
    }
   ],
   "source": [
    "DF = pd.DataFrame(DIF)\n",
    "DF"
   ]
  },
  {
   "cell_type": "code",
   "execution_count": 317,
   "metadata": {},
   "outputs": [
    {
     "data": {
      "text/html": [
       "<div>\n",
       "<style scoped>\n",
       "    .dataframe tbody tr th:only-of-type {\n",
       "        vertical-align: middle;\n",
       "    }\n",
       "\n",
       "    .dataframe tbody tr th {\n",
       "        vertical-align: top;\n",
       "    }\n",
       "\n",
       "    .dataframe thead th {\n",
       "        text-align: right;\n",
       "    }\n",
       "</style>\n",
       "<table border=\"1\" class=\"dataframe\">\n",
       "  <thead>\n",
       "    <tr style=\"text-align: right;\">\n",
       "      <th></th>\n",
       "      <th>2020</th>\n",
       "      <th>2021</th>\n",
       "      <th>2022</th>\n",
       "      <th>2023</th>\n",
       "      <th>Quý 1-2024</th>\n",
       "      <th>Quý 2-2024</th>\n",
       "      <th>chỉ tiêu</th>\n",
       "    </tr>\n",
       "  </thead>\n",
       "  <tbody>\n",
       "    <tr>\n",
       "      <th>0</th>\n",
       "      <td>36.982117</td>\n",
       "      <td>42.208269</td>\n",
       "      <td>41.798012</td>\n",
       "      <td>38.926909</td>\n",
       "      <td>46.641096</td>\n",
       "      <td>35.994035</td>\n",
       "      <td>dịch vụ</td>\n",
       "    </tr>\n",
       "    <tr>\n",
       "      <th>1</th>\n",
       "      <td>12.164902</td>\n",
       "      <td>12.100087</td>\n",
       "      <td>23.212231</td>\n",
       "      <td>27.891481</td>\n",
       "      <td>40.363495</td>\n",
       "      <td>32.038233</td>\n",
       "      <td>ngoại hối</td>\n",
       "    </tr>\n",
       "    <tr>\n",
       "      <th>2</th>\n",
       "      <td>3.361351</td>\n",
       "      <td>3.741029</td>\n",
       "      <td>-0.234327</td>\n",
       "      <td>1.809491</td>\n",
       "      <td>4.596551</td>\n",
       "      <td>1.461726</td>\n",
       "      <td>mua bán chứng khoán kinh doanh</td>\n",
       "    </tr>\n",
       "    <tr>\n",
       "      <th>3</th>\n",
       "      <td>10.646772</td>\n",
       "      <td>1.323697</td>\n",
       "      <td>1.912762</td>\n",
       "      <td>17.015247</td>\n",
       "      <td>-8.019342</td>\n",
       "      <td>9.513941</td>\n",
       "      <td>mua bán chứng khoán đầu tư</td>\n",
       "    </tr>\n",
       "  </tbody>\n",
       "</table>\n",
       "</div>"
      ],
      "text/plain": [
       "        2020       2021       2022       2023 Quý 1-2024 Quý 2-2024  \\\n",
       "0  36.982117  42.208269  41.798012  38.926909  46.641096  35.994035   \n",
       "1  12.164902  12.100087  23.212231  27.891481  40.363495  32.038233   \n",
       "2   3.361351   3.741029  -0.234327   1.809491   4.596551   1.461726   \n",
       "3  10.646772   1.323697   1.912762  17.015247  -8.019342   9.513941   \n",
       "\n",
       "                          chỉ tiêu  \n",
       "0                          dịch vụ  \n",
       "1                        ngoại hối  \n",
       "2   mua bán chứng khoán kinh doanh  \n",
       "3       mua bán chứng khoán đầu tư  "
      ]
     },
     "execution_count": 317,
     "metadata": {},
     "output_type": "execute_result"
    }
   ],
   "source": [
    "# tính có cấu thu nhập ngoài lãi (NIIS)\n",
    "NIS_cols = ['2020','2021','2022','2023','Quý 1-2024','Quý 2-2024']\n",
    "NIIS = NISS[NIS_cols].copy()\n",
    "NI_cols = ['2020','2021','2022','2023','Quý 1-2024','Quý 2-2024']\n",
    "NI = NII[NI_cols].copy()\n",
    "NI = NI.set_axis(NIS_cols)\n",
    "NIIS = (NIIS/NI)*100\n",
    "NIIS[\"chỉ tiêu\"] = \" dịch vụ\", \" ngoại hối\", \" mua bán chứng khoán kinh doanh\", \" mua bán chứng khoán đầu tư\"\n",
    "NIIS\n"
   ]
  },
  {
   "cell_type": "markdown",
   "metadata": {},
   "source": [
    "##### Visualize cơ cấu thu nhập ngoài lãi 2019-2024"
   ]
  },
  {
   "cell_type": "code",
   "execution_count": 318,
   "metadata": {},
   "outputs": [
    {
     "data": {
      "image/png": "[encoded data removed]",
      "text/plain": [
       "<Figure size 1000x600 with 1 Axes>"
      ]
     },
     "metadata": {},
     "output_type": "display_data"
    }
   ],
   "source": [
    "df = pd.DataFrame(NIIS)\n",
    "df.set_index('chỉ tiêu', inplace=True)\n",
    "\n",
    "# vẽ biểu đồ\n",
    "plt.figure(figsize=(10, 6))\n",
    "\n",
    "# vẽ lines\n",
    "for index, row in df.iterrows():\n",
    "    plt.plot(df.columns, row, marker='o', label=index)\n",
    "\n",
    "# Thêm tiêu đề và nhãn trục\n",
    "plt.title('Biểu đồ Cơ cấu thu nhập ngoài lãi qua các năm và quý')\n",
    "plt.xticks(rotation=45)\n",
    "plt.legend()\n",
    "\n",
    "# Hiển thị biểu đồ\n",
    "plt.tight_layout()\n",
    "plt.show()"
   ]
  },
  {
   "cell_type": "markdown",
   "metadata": {},
   "source": [
    "#### Tỷ lệ CIR của BID\n",
    "\n",
    "Cost to income Ratio (tỷ lệ CIR) = chi phí hoạt động / thu nhập hoạt động"
   ]
  },
  {
   "cell_type": "markdown",
   "metadata": {},
   "source": [
    "##### tổng chi phí hoạt động(TC)"
   ]
  },
  {
   "cell_type": "code",
   "execution_count": 319,
   "metadata": {},
   "outputs": [
    {
     "data": {
      "text/plain": [
       "chỉ tiêu    Tổng chi phí hoạt động\n",
       "2020              17692960000000.0\n",
       "2021              19465321000000.0\n",
       "2022              22557474000000.0\n",
       "2023              25080598000000.0\n",
       "Name: 4, dtype: object"
      ]
     },
     "execution_count": 319,
     "metadata": {},
     "output_type": "execute_result"
    }
   ],
   "source": [
    "TC = df_thkt.iloc[4]\n",
    "TC"
   ]
  },
  {
   "cell_type": "markdown",
   "metadata": {},
   "source": [
    "##### Tổng thu nhập hoạt động(TI)"
   ]
  },
  {
   "cell_type": "code",
   "execution_count": 320,
   "metadata": {},
   "outputs": [
    {
     "data": {
      "text/plain": [
       "chỉ tiêu    Tổng thu nhập hoạt động\n",
       "2020               50037144000000.0\n",
       "2021               62493889000000.0\n",
       "2022               69582444000000.0\n",
       "2023               73013017000000.0\n",
       "Name: 5, dtype: object"
      ]
     },
     "execution_count": 320,
     "metadata": {},
     "output_type": "execute_result"
    }
   ],
   "source": [
    "TI = df_thkt.iloc[5]\n",
    "TI"
   ]
  },
  {
   "cell_type": "markdown",
   "metadata": {},
   "source": [
    "##### tỷ lệ CIR"
   ]
  },
  {
   "cell_type": "code",
   "execution_count": 321,
   "metadata": {},
   "outputs": [
    {
     "data": {
      "text/plain": [
       "2020        35.359652\n",
       "2021        31.147559\n",
       "2022        32.418341\n",
       "2023        34.350858\n",
       "chỉ tiêu    Tỷ lệ CIR\n",
       "dtype: object"
      ]
     },
     "execution_count": 321,
     "metadata": {},
     "output_type": "execute_result"
    }
   ],
   "source": [
    "M_cols = ['2020','2021','2022','2023']\n",
    "CIR = TC[M_cols].copy()\n",
    "N_cols = ['2020','2021','2022','2023']\n",
    "N = TI[N_cols].copy()\n",
    "N = N.set_axis(M_cols)\n",
    "CIR = (CIR/N)*100\n",
    "CIR[\"chỉ tiêu\"] = \"Tỷ lệ CIR\"\n",
    "CIR"
   ]
  },
  {
   "cell_type": "markdown",
   "metadata": {},
   "source": [
    "##### visualize tỷ lệ CIR"
   ]
  },
  {
   "cell_type": "code",
   "execution_count": 322,
   "metadata": {},
   "outputs": [
    {
     "data": {
      "image/png": "[encoded data removed]",
      "text/plain": [
       "<Figure size 1000x600 with 1 Axes>"
      ]
     },
     "metadata": {},
     "output_type": "display_data"
    }
   ],
   "source": [
    "data = {\n",
    "    \"Năm\": [\"2020\", \"2021\", \"2022\", \"2023\"],\n",
    "    \"Tỷ lệ CIR\": [35.359652, 31.147559, 32.418341, 34.350858],\n",
    "}\n",
    "\n",
    "df = pd.DataFrame(data)\n",
    "# Vẽ biểu đồ đường\n",
    "plt.figure(figsize=(10, 6))\n",
    "plt.plot(\n",
    "    df[\"Năm\"],\n",
    "    df[\"Tỷ lệ CIR\"],\n",
    "    marker=\"o\",\n",
    "    linestyle=\"-\",\n",
    "    color=\"#6CA6CD\",\n",
    "    linewidth=3,\n",
    "    markersize=10,\n",
    ")\n",
    "\n",
    "# Đánh dấu giá trị trên các điểm\n",
    "for i in range(len(df)):\n",
    "    plt.text(\n",
    "        df[\"Năm\"][i],\n",
    "        df[\"Tỷ lệ CIR\"][i] + 0.5,\n",
    "        f'{df[\"Tỷ lệ CIR\"][i]:.1f}%',\n",
    "        ha=\"center\",\n",
    "        fontsize=12,\n",
    "    )\n",
    "\n",
    "# Thiết lập giới hạn cho trục y\n",
    "plt.ylim(25, 40)\n",
    "\n",
    "# Thêm tiêu đề và nhãn cho các trục\n",
    "plt.title(\"Biểu đồ Tỷ lệ CIR giai đoạn 2020/2023\", fontsize=16)\n",
    "plt.xlabel(\"Năm\", fontsize=14)\n",
    "plt.ylabel(\"Tỷ lệ CIR (%)\", fontsize=14)\n",
    "\n",
    "# Định dạng trục y để hiển thị theo phần trăm\n",
    "plt.yticks(fontsize=12)\n",
    "plt.xticks(fontsize=12)\n",
    "\n",
    "# Hiển thị biểu đồ\n",
    "plt.show()"
   ]
  },
  {
   "cell_type": "markdown",
   "metadata": {},
   "source": [
    "#### Cơ cấu nợ xấu & nợ cần chú ý của BID giai đoạn 2022-2024\n"
   ]
  },
  {
   "cell_type": "markdown",
   "metadata": {},
   "source": [
    "##### Crawl"
   ]
  },
  {
   "cell_type": "code",
   "execution_count": 323,
   "metadata": {},
   "outputs": [],
   "source": [
    "# deps\n",
    "single_space = ' '\n",
    "double_space = f'{single_space}{single_space}'\n",
    "\n",
    "def clean_text(text):\n",
    "    return text.strip().replace('\\n', ' ').replace('\\r', ' ').replace('\\t', ' ').replace(double_space, single_space)"
   ]
  },
  {
   "cell_type": "code",
   "execution_count": 324,
   "metadata": {},
   "outputs": [],
   "source": [
    "# call request\n",
    "url = f\"https://s.cafef.vn/hose/bid-ngan-hang-thuong-mai-co-phan-dau-tu-va-phat-trien-viet-nam.chn\"\n",
    "\n",
    "payload = {}\n",
    "headers = {\n",
    "  'Connection': 'keep-alive',\n",
    "  'Sec-Fetch-Dest': 'document',\n",
    "  'Sec-Fetch-Mode': 'navigate',\n",
    "  'Sec-Fetch-Site': 'cross-site',\n",
    "  'Sec-Fetch-User': '?1',\n",
    "  'Upgrade-Insecure-Requests': '1',\n",
    "  'Cookie': 'ASP.NET_SessionId=f5df1mgr5ecxyrga1pd1qhw2'\n",
    "}\n",
    "\n",
    "response = requests.request(\"GET\", url, headers=headers, data=payload)\n",
    "soup = BeautifulSoup(response.text, 'html.parser')"
   ]
  },
  {
   "cell_type": "code",
   "execution_count": 325,
   "metadata": {},
   "outputs": [],
   "source": [
    "table_wrapper = soup.select_one(\"#NLoaded\")\n",
    "table_content = table_wrapper.table"
   ]
  },
  {
   "cell_type": "code",
   "execution_count": 326,
   "metadata": {},
   "outputs": [],
   "source": [
    "header = []\n",
    "contents = []"
   ]
  },
  {
   "cell_type": "code",
   "execution_count": 327,
   "metadata": {},
   "outputs": [],
   "source": [
    "# get header\n",
    "header_cols = table_content.find(class_=\"_header\").find_all(\"td\")\n",
    "for header_cell in header_cols:\n",
    "    header.append(clean_text(header_cell.text))"
   ]
  },
  {
   "cell_type": "code",
   "execution_count": 328,
   "metadata": {},
   "outputs": [],
   "source": [
    "# get contents\n",
    "rows = table_content.find_all(\"tr\")[1:]\n",
    "for row in rows:\n",
    "    cols = row.find_all(\"td\")\n",
    "    content = []\n",
    "    for col in cols: \n",
    "        content.append(clean_text(col.text))\n",
    "    contents.append(content)"
   ]
  },
  {
   "cell_type": "code",
   "execution_count": 329,
   "metadata": {},
   "outputs": [
    {
     "data": {
      "text/html": [
       "<div>\n",
       "<style scoped>\n",
       "    .dataframe tbody tr th:only-of-type {\n",
       "        vertical-align: middle;\n",
       "    }\n",
       "\n",
       "    .dataframe tbody tr th {\n",
       "        vertical-align: top;\n",
       "    }\n",
       "\n",
       "    .dataframe thead th {\n",
       "        text-align: right;\n",
       "    }\n",
       "</style>\n",
       "<table border=\"1\" class=\"dataframe\">\n",
       "  <thead>\n",
       "    <tr style=\"text-align: right;\">\n",
       "      <th></th>\n",
       "      <th>Chỉ tiêu</th>\n",
       "      <th>Quý 2-2023</th>\n",
       "      <th>Quý 3-2023</th>\n",
       "      <th>Quý 4-2023</th>\n",
       "      <th>Quý 1-2024</th>\n",
       "    </tr>\n",
       "  </thead>\n",
       "  <tbody>\n",
       "    <tr>\n",
       "      <th>0</th>\n",
       "      <td>Nợ đủ tiêu chuẩn</td>\n",
       "      <td>1,567,744,091,000</td>\n",
       "      <td>1,596,323,510,000</td>\n",
       "      <td>1,727,328,174,000</td>\n",
       "      <td>1,730,098,099,000</td>\n",
       "    </tr>\n",
       "    <tr>\n",
       "      <th>1</th>\n",
       "      <td>Nợ cần chú ý</td>\n",
       "      <td>35,352,442,000</td>\n",
       "      <td>30,734,863,000</td>\n",
       "      <td>28,107,442,000</td>\n",
       "      <td>36,832,273,000</td>\n",
       "    </tr>\n",
       "    <tr>\n",
       "      <th>2</th>\n",
       "      <td>Nợ dưới tiêu chuẩn</td>\n",
       "      <td>7,729,818,000</td>\n",
       "      <td>4,446,046,000</td>\n",
       "      <td>3,693,267,000</td>\n",
       "      <td>6,345,918,000</td>\n",
       "    </tr>\n",
       "    <tr>\n",
       "      <th>3</th>\n",
       "      <td>Nợ nghi ngờ</td>\n",
       "      <td>5,277,549,000</td>\n",
       "      <td>9,138,360,000</td>\n",
       "      <td>5,667,202,000</td>\n",
       "      <td>5,374,793,000</td>\n",
       "    </tr>\n",
       "    <tr>\n",
       "      <th>4</th>\n",
       "      <td>Nợ có khả năng mất vốn</td>\n",
       "      <td>12,962,717,000</td>\n",
       "      <td>12,809,362,000</td>\n",
       "      <td>12,868,797,000</td>\n",
       "      <td>15,279,151,000</td>\n",
       "    </tr>\n",
       "  </tbody>\n",
       "</table>\n",
       "</div>"
      ],
      "text/plain": [
       "                 Chỉ tiêu         Quý 2-2023         Quý 3-2023  \\\n",
       "0        Nợ đủ tiêu chuẩn  1,567,744,091,000  1,596,323,510,000   \n",
       "1            Nợ cần chú ý     35,352,442,000     30,734,863,000   \n",
       "2      Nợ dưới tiêu chuẩn      7,729,818,000      4,446,046,000   \n",
       "3             Nợ nghi ngờ      5,277,549,000      9,138,360,000   \n",
       "4  Nợ có khả năng mất vốn     12,962,717,000     12,809,362,000   \n",
       "\n",
       "          Quý 4-2023         Quý 1-2024  \n",
       "0  1,727,328,174,000  1,730,098,099,000  \n",
       "1     28,107,442,000     36,832,273,000  \n",
       "2      3,693,267,000      6,345,918,000  \n",
       "3      5,667,202,000      5,374,793,000  \n",
       "4     12,868,797,000     15,279,151,000  "
      ]
     },
     "execution_count": 329,
     "metadata": {},
     "output_type": "execute_result"
    }
   ],
   "source": [
    "# convert to dataframe \n",
    "df_bid = pd.DataFrame(contents, columns=header)\n",
    "df_bid.head()"
   ]
  },
  {
   "cell_type": "markdown",
   "metadata": {},
   "source": [
    "##### Clean"
   ]
  },
  {
   "cell_type": "code",
   "execution_count": 330,
   "metadata": {},
   "outputs": [],
   "source": [
    "# convert to floats\n",
    "quar_cols = [\"Quý 2-2023\", \"Quý 3-2023\", \"Quý 4-2023\", \"Quý 1-2024\"]\n",
    "df_bid = convert_col_to_float(df_bid, quar_cols)"
   ]
  },
  {
   "cell_type": "code",
   "execution_count": 331,
   "metadata": {},
   "outputs": [
    {
     "data": {
      "text/html": [
       "<div>\n",
       "<style scoped>\n",
       "    .dataframe tbody tr th:only-of-type {\n",
       "        vertical-align: middle;\n",
       "    }\n",
       "\n",
       "    .dataframe tbody tr th {\n",
       "        vertical-align: top;\n",
       "    }\n",
       "\n",
       "    .dataframe thead th {\n",
       "        text-align: right;\n",
       "    }\n",
       "</style>\n",
       "<table border=\"1\" class=\"dataframe\">\n",
       "  <thead>\n",
       "    <tr style=\"text-align: right;\">\n",
       "      <th></th>\n",
       "      <th>Chỉ tiêu</th>\n",
       "      <th>Quý 2-2023</th>\n",
       "      <th>Quý 3-2023</th>\n",
       "      <th>Quý 4-2023</th>\n",
       "      <th>Quý 1-2024</th>\n",
       "    </tr>\n",
       "  </thead>\n",
       "  <tbody>\n",
       "    <tr>\n",
       "      <th>0</th>\n",
       "      <td>Nợ đủ tiêu chuẩn</td>\n",
       "      <td>1.567744e+12</td>\n",
       "      <td>1.596324e+12</td>\n",
       "      <td>1.727328e+12</td>\n",
       "      <td>1.730098e+12</td>\n",
       "    </tr>\n",
       "    <tr>\n",
       "      <th>1</th>\n",
       "      <td>Nợ cần chú ý</td>\n",
       "      <td>3.535244e+10</td>\n",
       "      <td>3.073486e+10</td>\n",
       "      <td>2.810744e+10</td>\n",
       "      <td>3.683227e+10</td>\n",
       "    </tr>\n",
       "    <tr>\n",
       "      <th>2</th>\n",
       "      <td>Nợ dưới tiêu chuẩn</td>\n",
       "      <td>7.729818e+09</td>\n",
       "      <td>4.446046e+09</td>\n",
       "      <td>3.693267e+09</td>\n",
       "      <td>6.345918e+09</td>\n",
       "    </tr>\n",
       "    <tr>\n",
       "      <th>3</th>\n",
       "      <td>Nợ nghi ngờ</td>\n",
       "      <td>5.277549e+09</td>\n",
       "      <td>9.138360e+09</td>\n",
       "      <td>5.667202e+09</td>\n",
       "      <td>5.374793e+09</td>\n",
       "    </tr>\n",
       "    <tr>\n",
       "      <th>4</th>\n",
       "      <td>Nợ có khả năng mất vốn</td>\n",
       "      <td>1.296272e+10</td>\n",
       "      <td>1.280936e+10</td>\n",
       "      <td>1.286880e+10</td>\n",
       "      <td>1.527915e+10</td>\n",
       "    </tr>\n",
       "  </tbody>\n",
       "</table>\n",
       "</div>"
      ],
      "text/plain": [
       "                 Chỉ tiêu    Quý 2-2023    Quý 3-2023    Quý 4-2023  \\\n",
       "0        Nợ đủ tiêu chuẩn  1.567744e+12  1.596324e+12  1.727328e+12   \n",
       "1            Nợ cần chú ý  3.535244e+10  3.073486e+10  2.810744e+10   \n",
       "2      Nợ dưới tiêu chuẩn  7.729818e+09  4.446046e+09  3.693267e+09   \n",
       "3             Nợ nghi ngờ  5.277549e+09  9.138360e+09  5.667202e+09   \n",
       "4  Nợ có khả năng mất vốn  1.296272e+10  1.280936e+10  1.286880e+10   \n",
       "\n",
       "     Quý 1-2024  \n",
       "0  1.730098e+12  \n",
       "1  3.683227e+10  \n",
       "2  6.345918e+09  \n",
       "3  5.374793e+09  \n",
       "4  1.527915e+10  "
      ]
     },
     "execution_count": 331,
     "metadata": {},
     "output_type": "execute_result"
    }
   ],
   "source": [
    "df_bid"
   ]
  },
  {
   "cell_type": "code",
   "execution_count": 332,
   "metadata": {},
   "outputs": [
    {
     "data": {
      "text/html": [
       "<div>\n",
       "<style scoped>\n",
       "    .dataframe tbody tr th:only-of-type {\n",
       "        vertical-align: middle;\n",
       "    }\n",
       "\n",
       "    .dataframe tbody tr th {\n",
       "        vertical-align: top;\n",
       "    }\n",
       "\n",
       "    .dataframe thead th {\n",
       "        text-align: right;\n",
       "    }\n",
       "</style>\n",
       "<table border=\"1\" class=\"dataframe\">\n",
       "  <thead>\n",
       "    <tr style=\"text-align: right;\">\n",
       "      <th></th>\n",
       "      <th>Chỉ tiêu</th>\n",
       "      <th>Quý 2-2023</th>\n",
       "      <th>Quý 3-2023</th>\n",
       "      <th>Quý 4-2023</th>\n",
       "      <th>Quý 1-2024</th>\n",
       "    </tr>\n",
       "  </thead>\n",
       "  <tbody>\n",
       "    <tr>\n",
       "      <th>1</th>\n",
       "      <td>Nợ cần chú ý</td>\n",
       "      <td>3.535244e+10</td>\n",
       "      <td>3.073486e+10</td>\n",
       "      <td>2.810744e+10</td>\n",
       "      <td>3.683227e+10</td>\n",
       "    </tr>\n",
       "    <tr>\n",
       "      <th>2</th>\n",
       "      <td>Nợ dưới tiêu chuẩn</td>\n",
       "      <td>7.729818e+09</td>\n",
       "      <td>4.446046e+09</td>\n",
       "      <td>3.693267e+09</td>\n",
       "      <td>6.345918e+09</td>\n",
       "    </tr>\n",
       "    <tr>\n",
       "      <th>3</th>\n",
       "      <td>Nợ nghi ngờ</td>\n",
       "      <td>5.277549e+09</td>\n",
       "      <td>9.138360e+09</td>\n",
       "      <td>5.667202e+09</td>\n",
       "      <td>5.374793e+09</td>\n",
       "    </tr>\n",
       "    <tr>\n",
       "      <th>4</th>\n",
       "      <td>Nợ có khả năng mất vốn</td>\n",
       "      <td>1.296272e+10</td>\n",
       "      <td>1.280936e+10</td>\n",
       "      <td>1.286880e+10</td>\n",
       "      <td>1.527915e+10</td>\n",
       "    </tr>\n",
       "  </tbody>\n",
       "</table>\n",
       "</div>"
      ],
      "text/plain": [
       "                 Chỉ tiêu    Quý 2-2023    Quý 3-2023    Quý 4-2023  \\\n",
       "1            Nợ cần chú ý  3.535244e+10  3.073486e+10  2.810744e+10   \n",
       "2      Nợ dưới tiêu chuẩn  7.729818e+09  4.446046e+09  3.693267e+09   \n",
       "3             Nợ nghi ngờ  5.277549e+09  9.138360e+09  5.667202e+09   \n",
       "4  Nợ có khả năng mất vốn  1.296272e+10  1.280936e+10  1.286880e+10   \n",
       "\n",
       "     Quý 1-2024  \n",
       "1  3.683227e+10  \n",
       "2  6.345918e+09  \n",
       "3  5.374793e+09  \n",
       "4  1.527915e+10  "
      ]
     },
     "execution_count": 332,
     "metadata": {},
     "output_type": "execute_result"
    }
   ],
   "source": [
    "df_bid_filtered = df_bid.iloc[[1,2,3,4]]\n",
    "df_bid_filtered"
   ]
  },
  {
   "cell_type": "code",
   "execution_count": 333,
   "metadata": {},
   "outputs": [
    {
     "data": {
      "text/plain": [
       "Index(['Chỉ tiêu', 'Quý 2-2023', 'Quý 3-2023', 'Quý 4-2023', 'Quý 1-2024'], dtype='object')"
      ]
     },
     "execution_count": 333,
     "metadata": {},
     "output_type": "execute_result"
    }
   ],
   "source": [
    "df_bid_filtered.columns"
   ]
  },
  {
   "cell_type": "markdown",
   "metadata": {},
   "source": [
    "##### Tính tổng dư nợ"
   ]
  },
  {
   "cell_type": "code",
   "execution_count": 334,
   "metadata": {},
   "outputs": [
    {
     "data": {
      "text/plain": [
       "Quý 2-2023    1629066617000.0\n",
       "Quý 3-2023    1653452141000.0\n",
       "Quý 4-2023    1777664882000.0\n",
       "Quý 1-2024    1793930234000.0\n",
       "chỉ tiêu           tổng dư nợ\n",
       "dtype: object"
      ]
     },
     "execution_count": 334,
     "metadata": {},
     "output_type": "execute_result"
    }
   ],
   "source": [
    "sum= df_bid.iloc[:, 1:].sum(axis=0)\n",
    "sum['chỉ tiêu'] = \"tổng dư nợ\"\n",
    "sum"
   ]
  },
  {
   "cell_type": "markdown",
   "metadata": {},
   "source": [
    "##### Tính cơ cấu nợ xấu và & nợ cần chú ý "
   ]
  },
  {
   "cell_type": "code",
   "execution_count": 335,
   "metadata": {},
   "outputs": [
    {
     "data": {
      "text/html": [
       "<div>\n",
       "<style scoped>\n",
       "    .dataframe tbody tr th:only-of-type {\n",
       "        vertical-align: middle;\n",
       "    }\n",
       "\n",
       "    .dataframe tbody tr th {\n",
       "        vertical-align: top;\n",
       "    }\n",
       "\n",
       "    .dataframe thead th {\n",
       "        text-align: right;\n",
       "    }\n",
       "</style>\n",
       "<table border=\"1\" class=\"dataframe\">\n",
       "  <thead>\n",
       "    <tr style=\"text-align: right;\">\n",
       "      <th></th>\n",
       "      <th>Quý 2-2023</th>\n",
       "      <th>Quý 3-2023</th>\n",
       "      <th>Quý 4-2023</th>\n",
       "      <th>Quý 1-2024</th>\n",
       "      <th>chỉ tiêu</th>\n",
       "    </tr>\n",
       "  </thead>\n",
       "  <tbody>\n",
       "    <tr>\n",
       "      <th>1</th>\n",
       "      <td>2.170104</td>\n",
       "      <td>1.85883</td>\n",
       "      <td>1.581144</td>\n",
       "      <td>2.053161</td>\n",
       "      <td>Nợ cần chú ý</td>\n",
       "    </tr>\n",
       "    <tr>\n",
       "      <th>2</th>\n",
       "      <td>0.474494</td>\n",
       "      <td>0.268895</td>\n",
       "      <td>0.207759</td>\n",
       "      <td>0.353744</td>\n",
       "      <td>Nợ dưới tiêu chuẩn</td>\n",
       "    </tr>\n",
       "    <tr>\n",
       "      <th>3</th>\n",
       "      <td>0.323962</td>\n",
       "      <td>0.552684</td>\n",
       "      <td>0.3188</td>\n",
       "      <td>0.29961</td>\n",
       "      <td>Nợ nghi ngờ</td>\n",
       "    </tr>\n",
       "    <tr>\n",
       "      <th>4</th>\n",
       "      <td>0.795714</td>\n",
       "      <td>0.774704</td>\n",
       "      <td>0.723916</td>\n",
       "      <td>0.851714</td>\n",
       "      <td>Nợ xấu có khả năng mất vốn</td>\n",
       "    </tr>\n",
       "  </tbody>\n",
       "</table>\n",
       "</div>"
      ],
      "text/plain": [
       "  Quý 2-2023 Quý 3-2023 Quý 4-2023 Quý 1-2024                    chỉ tiêu\n",
       "1   2.170104    1.85883   1.581144   2.053161                Nợ cần chú ý\n",
       "2   0.474494   0.268895   0.207759   0.353744          Nợ dưới tiêu chuẩn\n",
       "3   0.323962   0.552684     0.3188    0.29961                 Nợ nghi ngờ\n",
       "4   0.795714   0.774704   0.723916   0.851714  Nợ xấu có khả năng mất vốn"
      ]
     },
     "execution_count": 335,
     "metadata": {},
     "output_type": "execute_result"
    }
   ],
   "source": [
    "debt_cols = ['Quý 2-2023', 'Quý 3-2023', 'Quý 4-2023', 'Quý 1-2024']\n",
    "S = df_bid_filtered[debt_cols].copy()\n",
    "su_cols = ['Quý 2-2023', 'Quý 3-2023', 'Quý 4-2023', 'Quý 1-2024']\n",
    "su = sum[su_cols].copy()\n",
    "su = su.set_axis(debt_cols)\n",
    "S = (S/su)*100\n",
    "S[\"chỉ tiêu\"] = \"Nợ cần chú ý\", \"Nợ dưới tiêu chuẩn\", \"Nợ nghi ngờ\", \"Nợ xấu có khả năng mất vốn\"\n",
    "S"
   ]
  },
  {
   "cell_type": "markdown",
   "metadata": {},
   "source": [
    "##### Visualize "
   ]
  },
  {
   "cell_type": "code",
   "execution_count": 336,
   "metadata": {},
   "outputs": [
    {
     "data": {
      "image/png": "[encoded data removed]",
      "text/plain": [
       "<Figure size 1000x600 with 1 Axes>"
      ]
     },
     "metadata": {},
     "output_type": "display_data"
    }
   ],
   "source": [
    "df = pd.DataFrame(S)\n",
    "\n",
    "df.set_index('chỉ tiêu', inplace=True)\n",
    "\n",
    "# df = pd.DataFrame(data, index=categories)\n",
    "# Vẽ biểu đồ cột chồng (stacked bar chart)\n",
    "ax = df.T.plot(kind='bar', stacked=True, figsize=(10, 6), color=['#103667', '#426EB4', '#BFCAE6', '#A0A0A0'])\n",
    "\n",
    "# Định dạng biểu đồ\n",
    "ax.set_ylabel('%')\n",
    "ax.set_xlabel('')\n",
    "ax.set_ylim(0, 4.5)\n",
    "ax.set_title('Cơ cấu nợ xấu & nợ cần chú ý của BID giai đoạn 2023-2024')\n",
    "ax.legend(loc='upper center', bbox_to_anchor=(0.5, -0.15), ncol=4)\n",
    "plt.xticks(rotation=0)\n",
    "# Thêm số liệu phần trăm trên cột\n",
    "for c in ax.containers:\n",
    "    ax.bar_label(c, label_type='center', fmt='%.1f%%', fontsize=8, color='white')\n",
    "\n",
    "plt.show()\n"
   ]
  }
 ],
 "metadata": {
  "kernelspec": {
   "display_name": "venv",
   "language": "python",
   "name": "python3"
  },
  "language_info": {
   "codemirror_mode": {
    "name": "ipython",
    "version": 3
   },
   "file_extension": ".py",
   "mimetype": "text/x-python",
   "name": "python",
   "nbconvert_exporter": "python",
   "pygments_lexer": "ipython3",
   "version": "3.11.0"
  }
 },
 "nbformat": 4,
 "nbformat_minor": 2
}
